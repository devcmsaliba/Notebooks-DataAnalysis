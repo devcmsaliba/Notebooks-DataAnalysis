{
  "cells": [
    {
      "cell_type": "markdown",
      "metadata": {
        "id": "KJqp9AANOCtf"
      },
      "source": [
        "<img src=\"https://raw.githubusercontent.com/andre-marcos-perez/ebac-course-utils/main/media/logo/newebac_logo_black_half.png\" alt=\"ebac-logo\">\n",
        "\n",
        "---\n",
        "\n",
        "# **Módulo** | Análise de Dados: Data Wrangling II\n",
        "Caderno de **Exercícios**<br>\n",
        "Professor [André Perez](https://www.linkedin.com/in/andremarcosperez/)\n",
        "\n",
        "---"
      ]
    },
    {
      "cell_type": "markdown",
      "metadata": {
        "id": "d9jDtUbDOE1-"
      },
      "source": [
        "# **Tópicos**\n",
        "\n",
        "<ol type=\"1\">\n",
        "  <li>Agregação e Ordenação;</li>\n",
        "  <li>Combinação;</li>\n",
        "  <li>Técnicas Avançadas.</li>\n",
        "</ol>"
      ]
    },
    {
      "cell_type": "markdown",
      "metadata": {
        "id": "SmoHgt-lwkpD"
      },
      "source": [
        "---"
      ]
    },
    {
      "cell_type": "markdown",
      "metadata": {
        "id": "GABI6OW8OfQ2"
      },
      "source": [
        "# **Exercícios**"
      ]
    },
    {
      "cell_type": "markdown",
      "metadata": {
        "id": "45DbYPgFhuR7"
      },
      "source": [
        "Neste exercícios, vamos trabalhar com dados geográficos, demográficos e econômicos do Brasil. Vamos manipular e combinar dados de duas frentes distintas para poder responder perguntas de negócios."
      ]
    },
    {
      "cell_type": "markdown",
      "metadata": {
        "id": "GWgNoJN8DHyY"
      },
      "source": [
        "## 1\\. Data Wrangling"
      ]
    },
    {
      "cell_type": "markdown",
      "metadata": {
        "id": "E30KnCdKRdYl"
      },
      "source": [
        "### **1.1. Estados**"
      ]
    },
    {
      "cell_type": "markdown",
      "metadata": {
        "id": "w2q1apyNYHbu"
      },
      "source": [
        "O arquivo `estados-bruto.xml` contém informações sobre estados (nome, sigla e região). **Carregue-o na máquina virtual do Google Colab**. Um arquivo do tipo XML é similar a um arquivo do tipo HTML, exemplo do estado do Acre:"
      ]
    },
    {
      "cell_type": "markdown",
      "metadata": {
        "id": "GzjE2aEyYW5A"
      },
      "source": [
        "```xml\n",
        "<ESTADO>\n",
        "  <ID>1</ID>\n",
        "  <NOME>ACRE</NOME>\n",
        "  <IDCAPITAL>16</IDCAPITAL>\n",
        "  <SIGLA>AC</SIGLA>\n",
        "  <REGIAO>NORTE</REGIAO>\n",
        "</ESTADO>\n",
        "```"
      ]
    },
    {
      "cell_type": "markdown",
      "metadata": {
        "id": "7Mtk7Dd9UHqg"
      },
      "source": [
        "Utilize o pacote Python `beautifulsoup4` para extrair os dados do arquivo `estados-bruto.xml` providenciado. Salve os dados extraidos no arquivo `estados-limpo.csv` separado por `;`. Exemplo das três primeiras linhas mais o cabeçalho:\n",
        "\n",
        "```\n",
        "estado;sigla;regiao\n",
        "ACRE;AC;NORTE\n",
        "ALAGOAS;AL;NORDESTE\n",
        "AMAPA;AP;NORTE\n",
        "```\n",
        "\n",
        "**Dica**: Utilize o parser de xml chamado `lxml` do `beautifulsoup4`."
      ]
    },
    {
      "cell_type": "code",
      "execution_count": null,
      "metadata": {
        "id": "kz0ZyYI0Sg6P"
      },
      "outputs": [],
      "source": [
        "# ler o arquivo estados-bruto.xml, utilize o xml parser chamado lxml\n",
        "\n",
        "from bs4 import BeautifulSoup\n",
        "\n",
        "NOME_ARQUIVO_FONTE = 'estados-bruto.xml'\n",
        "\n",
        "with open(NOME_ARQUIVO_FONTE, mode='r', encoding='utf8') as arquivo: #abre o arquivo XML no modo leitura\n",
        "  conteudo = arquivo.read() #lê o conteúdo do arquivo e armazena na variável conteudo\n",
        "  fonte = BeautifulSoup(conteudo, 'lxml-xml') # Parsear o XML com lxml / especifica que o arquivo é XML, o que desativa a advertência e faz o BeautifulSoup tratar o conteúdo como XML"
      ]
    },
    {
      "cell_type": "code",
      "execution_count": null,
      "metadata": {
        "id": "rB0u2NjEXhDo"
      },
      "outputs": [],
      "source": [
        "# visualize os resultados\n",
        "\n",
        "print(fonte.prettify()) #vai formatar o XML de forma mais legível e organizada, imprimindo o resultado no console"
      ]
    },
    {
      "cell_type": "code",
      "execution_count": null,
      "metadata": {
        "id": "6mos3LTVXrzV",
        "colab": {
          "base_uri": "https://localhost:8080/"
        },
        "outputId": "909fb9f1-9b9f-45c0-cab4-953eaa26e100"
      },
      "outputs": [
        {
          "output_type": "stream",
          "name": "stdout",
          "text": [
            "[{'ID': '1', 'NOME': 'ACRE', 'SIGLA': 'AC', 'REGIAO': 'NORTE', 'IDCAPITAL': '16'}, {'ID': '2', 'NOME': 'ALAGOAS', 'SIGLA': 'AL', 'REGIAO': 'NORDESTE', 'IDCAPITAL': '68'}, {'ID': '3', 'NOME': 'AMAPA', 'SIGLA': 'AP', 'REGIAO': 'NORTE', 'IDCAPITAL': '131'}, {'ID': '4', 'NOME': 'AMAZONAS', 'SIGLA': 'AM', 'REGIAO': 'NORTE', 'IDCAPITAL': '178'}, {'ID': '5', 'NOME': 'BAHIA', 'SIGLA': 'BA', 'REGIAO': 'NORDESTE', 'IDCAPITAL': '536'}, {'ID': '6', 'NOME': 'CEARA', 'SIGLA': 'CE', 'REGIAO': 'NORDESTE', 'IDCAPITAL': '676'}, {'ID': '7', 'NOME': 'DISTRITO FEDERAL', 'SIGLA': 'DF', 'REGIAO': 'CENTRO-OESTE', 'IDCAPITAL': '916'}, {'ID': '8', 'NOME': 'ESPIRITO SANTO', 'SIGLA': 'ES', 'REGIAO': 'SUDESTE', 'IDCAPITAL': '879'}, {'ID': '9', 'NOME': 'GOIAS', 'SIGLA': 'GO', 'REGIAO': 'CENTRO-OESTE', 'IDCAPITAL': '973'}, {'ID': '10', 'NOME': 'MARANHAO', 'SIGLA': 'MA', 'REGIAO': 'NORDESTE', 'IDCAPITAL': '1309'}, {'ID': '11', 'NOME': 'MATO GROSSO', 'SIGLA': 'MT', 'REGIAO': 'CENTRO-OESTE', 'IDCAPITAL': '1374'}, {'ID': '12', 'NOME': 'MATO GROSSO DO SUL', 'SIGLA': 'MS', 'REGIAO': 'CENTRO-OESTE', 'IDCAPITAL': '1485'}, {'ID': '13', 'NOME': 'PARA', 'SIGLA': 'PA', 'REGIAO': 'NORTE', 'IDCAPITAL': '1561'}, {'ID': '14', 'NOME': 'PARAIBA', 'SIGLA': 'PB', 'REGIAO': 'NORDESTE', 'IDCAPITAL': '1779'}, {'ID': '15', 'NOME': 'PARANA', 'SIGLA': 'PR', 'REGIAO': 'SUL', 'IDCAPITAL': '2002'}, {'ID': '16', 'NOME': 'PERNAMBUCO', 'SIGLA': 'PE', 'REGIAO': 'NORDESTE', 'IDCAPITAL': '2439'}, {'ID': '17', 'NOME': 'PIAUI', 'SIGLA': 'PI', 'REGIAO': 'NORDESTE', 'IDCAPITAL': '2704'}, {'ID': '18', 'NOME': 'RIO DE JANEIRO', 'SIGLA': 'RJ', 'REGIAO': 'SUDESTE', 'IDCAPITAL': '2779'}, {'ID': '19', 'NOME': 'RIO GRANDE DO NORTE', 'SIGLA': 'RN', 'REGIAO': 'NORDESTE', 'IDCAPITAL': '2890'}, {'ID': '20', 'NOME': 'RIO GRANDE DO SUL', 'SIGLA': 'RS', 'REGIAO': 'SUL', 'IDCAPITAL': '3273'}, {'ID': '21', 'NOME': 'RONDONIA', 'SIGLA': 'RO', 'REGIAO': 'NORTE', 'IDCAPITAL': '3473'}, {'ID': '22', 'NOME': 'RORAIMA', 'SIGLA': 'RR', 'REGIAO': 'NORTE', 'IDCAPITAL': '3491'}, {'ID': '23', 'NOME': 'SANTA CATARINA', 'SIGLA': 'SC', 'REGIAO': 'SUL', 'IDCAPITAL': '3591'}, {'ID': '24', 'NOME': 'SAO PAULO', 'SIGLA': 'SP', 'REGIAO': 'SUDESTE', 'IDCAPITAL': '4361'}, {'ID': '25', 'NOME': 'SERGIPE', 'SIGLA': 'SE', 'REGIAO': 'NORDESTE', 'IDCAPITAL': '4444'}, {'ID': '26', 'NOME': 'TOCANTINS', 'SIGLA': 'TO', 'REGIAO': 'NORTE', 'IDCAPITAL': '4606'}, {'ID': '27', 'NOME': 'MINAS GERAIS', 'SIGLA': 'MG', 'REGIAO': 'SUDESTE', 'IDCAPITAL': '4790'}]\n"
          ]
        }
      ],
      "source": [
        "# manipule os dados\n",
        "\n",
        "estados = fonte.find_all('ESTADO') #Encontrar todos os elementos estado\n",
        "\n",
        "estados_lista = [] #Lista para armazenar os estados\n",
        "\n",
        "for estado in estados: #Extrair e exibir as informações de cada estado\n",
        "  ID_ESTADO = estado.find('ID').text if estado.find('ID') else 'Desconhecido'\n",
        "  NOME = estado.find('NOME').text if estado.find('NOME') else 'Desconhecido'\n",
        "  SIGLA = estado.find('SIGLA').text if estado.find('SIGLA') else 'N/A'\n",
        "  REGIAO = estado.find('REGIAO').text if estado.find('REGIAO') else 'N/A'\n",
        "  ID_CAPITAL = estado.find('IDCAPITAL').text if estado.find('IDCAPITAL') else 'N/A'\n",
        "\n",
        "  estados_lista.append({'ID': ID_ESTADO, 'NOME': NOME, 'SIGLA': SIGLA, 'REGIAO': REGIAO, 'IDCAPITAL': ID_CAPITAL}) #Armazenar como dicionário\n",
        "\n",
        "print(estados_lista) #Exibir a lista de estados"
      ]
    },
    {
      "cell_type": "code",
      "execution_count": null,
      "metadata": {
        "id": "9yCma_LASxFg",
        "colab": {
          "base_uri": "https://localhost:8080/"
        },
        "outputId": "efce8f4f-733c-49ac-f478-0ba4b919bfad"
      },
      "outputs": [
        {
          "output_type": "stream",
          "name": "stdout",
          "text": [
            "Dados salvos em estados-limpo.csv\n"
          ]
        }
      ],
      "source": [
        "# escrever o conteudo extraido no arquivo estados-limpo.csv separados por ;\n",
        "\n",
        "import csv\n",
        "\n",
        "NOME_ARQUIVO_SAIDA = 'estados-limpo.csv' #Caminho do arquivo de saída\n",
        "\n",
        "cabecalho = ['ID', 'NOME', 'SIGLA', 'REGIAO', 'IDCAPITAL'] #Cabeçalhos para o CSV\n",
        "\n",
        "with open(NOME_ARQUIVO_SAIDA, mode='w', encoding='utf8', newline='') as arquivo_csv: #Abrir o arquivo no modo escrita\n",
        "    writer = csv.DictWriter(arquivo_csv, fieldnames=cabecalho, delimiter=';') #Usamos DictWriter para escrever os dados no formato de dicionário, onde as chaves correspondem aos cabeçalhos e os valores aos dados de cada estado.\n",
        "    writer.writeheader() #Escrever o cabeçalho\n",
        "\n",
        "    for estado in estados_lista: #Escrever os dados dos estados\n",
        "        writer.writerow(estado) #Escreve uma linha do dicionário estado no arquivo CSV\n",
        "\n",
        "print(f'Dados salvos em {NOME_ARQUIVO_SAIDA}')"
      ]
    },
    {
      "cell_type": "markdown",
      "metadata": {
        "id": "Fq0xqYYSYq92"
      },
      "source": [
        "### **1.2. Cidades**"
      ]
    },
    {
      "cell_type": "markdown",
      "metadata": {
        "id": "eWRbjhOQYq93"
      },
      "source": [
        "O arquivo `cidades-bruto.csv` contém informações demográficas e socioeconomicas das cidades do Brasil. **Carregue-o na máquina virtual do Google Colab**. Utilize o pacote Python `pandas` para extrair os dados do arquivo `cidades-bruto.xml` providenciado. Seguindo as seguintes especificações:"
      ]
    },
    {
      "cell_type": "markdown",
      "metadata": {
        "id": "76zW8sMsbhEu"
      },
      "source": [
        "1. Apenas dados do censo de 2010;\n",
        "1. Apenas as colunas UF, Nome, PIB, Pop_est_2009 e PIB_percapita."
      ]
    },
    {
      "cell_type": "markdown",
      "metadata": {
        "id": "auiIxlw-blp8"
      },
      "source": [
        "Salve os dados extraidos no arquivo `cidades-limpo.csv` separado por `;`. Exemplo das três primeiras linhas mais o cabeçalho:\n",
        "\n",
        "```\n",
        "estado;cidade;populacao;pib;pib_percapita\n",
        "BAHIA;TREMEDAL;18433;57883.9921875;3140.23999023\n",
        "RIO GRANDE DO SUL;TURUÇU;4000;45723875;11430.96972656\n",
        "ESPIRITO SANTO;VITÓRIA;320156;19782628;61790.58984375\n",
        "```"
      ]
    },
    {
      "cell_type": "code",
      "execution_count": null,
      "metadata": {
        "id": "nBmWOkvzYq94"
      },
      "outputs": [],
      "source": [
        "# ler o arquivo cidades-bruto.csv\n",
        "\n",
        "import pandas as pd #A função read_csv() do pandas já cuida de ler o arquivo CSV e converter as informações em um DataFrame por isso Não é necessário usar o formato with open e arquivo.read(): Quando você usa o pandas para ler um arquivo, ele já lida com a leitura interna.\n",
        "\n",
        "NOME_ARQUIVO_FONTE = 'cidades-bruto.csv'\n",
        "\n",
        "fonte = pd.read_csv(NOME_ARQUIVO_FONTE, sep=',', usecols=['UF', 'nome', 'PIB', 'Pop_est_2009', 'PIB_percapita']) #usecols: garante que somente as colunas que você deseja sejam carregadas"
      ]
    },
    {
      "cell_type": "code",
      "execution_count": null,
      "metadata": {
        "id": "2NKpI4h9Yq95",
        "colab": {
          "base_uri": "https://localhost:8080/"
        },
        "outputId": "5ad3a102-40cd-4d67-d1b6-6712d89015b2"
      },
      "outputs": [
        {
          "output_type": "stream",
          "name": "stdout",
          "text": [
            "                     UF               nome           PIB  Pop_est_2009  \\\n",
            "0                 BAHIA           Tremedal  5.788399e+04         18433   \n",
            "1     RIO GRANDE DO SUL             Turuçu  4.572388e+04          4000   \n",
            "2        ESPIRITO SANTO            Vitória  1.978263e+07        320156   \n",
            "3          MINAS GERAIS          Jacutinga  2.478160e+05         21424   \n",
            "4                 PIAUÍ            Nazária  2.095138e+04          7895   \n",
            "...                 ...                ...           ...           ...   \n",
            "1715              BAHIA              Aporá  5.578780e+04         18738   \n",
            "1716           MARANHÃO     Gonçalves Dias  5.020111e+04         16911   \n",
            "1717          SÃO PAULO  Alfredo Marcondes  3.810474e+04          4055   \n",
            "1718               PARÁ             Anajás  6.253456e+04         27386   \n",
            "1719       MINAS GERAIS      Divisa Alegre  4.266709e+04          6235   \n",
            "\n",
            "      PIB_percapita  \n",
            "0       3140.239990  \n",
            "1      11430.969727  \n",
            "2      61790.589844  \n",
            "3      11567.209961  \n",
            "4       2653.750000  \n",
            "...             ...  \n",
            "1715    2977.260010  \n",
            "1716    2968.550049  \n",
            "1717    9396.980469  \n",
            "1718    2283.449951  \n",
            "1719    6843.160156  \n",
            "\n",
            "[1720 rows x 5 columns]\n"
          ]
        }
      ],
      "source": [
        "# visualize os resultados\n",
        "\n",
        "print(fonte)"
      ]
    },
    {
      "cell_type": "code",
      "execution_count": null,
      "metadata": {
        "id": "BRVLwHxHYq96",
        "colab": {
          "base_uri": "https://localhost:8080/"
        },
        "outputId": "83798b21-99a8-4875-fc23-849df489c892"
      },
      "outputs": [
        {
          "output_type": "stream",
          "name": "stdout",
          "text": [
            "                  UF       nome           PIB  Pop_est_2009  PIB_percapita\n",
            "0              BAHIA   Tremedal  5.788399e+04         18433    3140.239990\n",
            "1  RIO GRANDE DO SUL     Turuçu  4.572388e+04          4000   11430.969727\n",
            "2     ESPIRITO SANTO    Vitória  1.978263e+07        320156   61790.589844\n",
            "3       MINAS GERAIS  Jacutinga  2.478160e+05         21424   11567.209961\n",
            "4              PIAUÍ    Nazária  2.095138e+04          7895    2653.750000\n"
          ]
        }
      ],
      "source": [
        "# manipule os dados\n",
        "\n",
        "print(fonte.head()) #05 primeiras linhas para saber dcomo ficaria"
      ]
    },
    {
      "cell_type": "code",
      "execution_count": null,
      "metadata": {
        "id": "GcAWBfwhYq96",
        "colab": {
          "base_uri": "https://localhost:8080/"
        },
        "outputId": "2a05afc8-3f88-46a1-e3e8-3fbbc2f748ee"
      },
      "outputs": [
        {
          "output_type": "stream",
          "name": "stdout",
          "text": [
            "Dados salvos em cidades-limpo.csv\n"
          ]
        }
      ],
      "source": [
        "# escrever o conteudo extraido no arquivo cidades-limpo.csv separados por ;\n",
        "\n",
        "NOME_ARQUIVO_DESTINO = 'cidades-limpo.csv' #Nome do arquivo de destino\n",
        "\n",
        "fonte.to_csv(NOME_ARQUIVO_DESTINO, sep=';', index=False) #Escrever o conteúdo extraído no arquivo de destino com separador ';'\n",
        "\n",
        "print(f'Dados salvos em {NOME_ARQUIVO_DESTINO}')"
      ]
    },
    {
      "cell_type": "markdown",
      "metadata": {
        "id": "EBzoHVD8b_c7"
      },
      "source": [
        "### **1.3. Brasil**"
      ]
    },
    {
      "cell_type": "markdown",
      "metadata": {
        "id": "Ft6l5bDwb_c7"
      },
      "source": [
        "Utilize o pacote Python `pandas` para combinar os dados do arquivo `estados-limpo.csv` com os dados do arquivo `cidades-limpo.csv` em um único dataframe. Escolha a coluna e o método de combinação de tal forma que **não haja perda de dados** no processo (não produzirá valores nulos `NaN`). Salve os dados do dataframe no arquivo `brasil.csv`"
      ]
    },
    {
      "cell_type": "code",
      "execution_count": null,
      "metadata": {
        "id": "Vz3J7G4-dBXa",
        "colab": {
          "base_uri": "https://localhost:8080/"
        },
        "outputId": "fe5ea1c7-552b-4943-95b0-5610cf9bf794"
      },
      "outputs": [
        {
          "output_type": "stream",
          "name": "stdout",
          "text": [
            "Dados salvos em brasil.csv\n"
          ]
        }
      ],
      "source": [
        "# solução do exercício 1.3\n",
        "\n",
        "import pandas as pd\n",
        "\n",
        "#pd.read_csv - lê os arquivos CSV\n",
        "estados = pd.read_csv('estados-limpo.csv', sep=';')\n",
        "cidades = pd.read_csv('cidades-limpo.csv', sep=';')\n",
        "\n",
        "#incio dos ajuste dos nomes de estados\n",
        "mapeamento = {\n",
        "    'SÃO PAULO': 'SAO PAULO',\n",
        "    'RONDÔNIA': 'RONDONIA',\n",
        "    'AMAPÁ': 'AMAPA',\n",
        "    'PIAUÍ': 'PIAUI',\n",
        "    'GOIÁS': 'GOIAS',\n",
        "    'PARÁ': 'PARA',\n",
        "    'PARAÍBA': 'PARAIBA',\n",
        "    'CEARÁ': 'CEARA',\n",
        "    'MARANHÃO': 'MARANHAO',\n",
        "    'PARANÁ': 'PARANA'\n",
        "}\n",
        "cidades['UF'] = cidades['UF'].replace(mapeamento)\n",
        "\n",
        "#fim dos ajustes\n",
        "\n",
        "df_combinado = pd.merge(left=estados, right=cidades, left_on='NOME', right_on='UF', how='outer')#Realiza a junção dos dois DataFrames. O parâmetro on='UF' indica que a coluna UF será usada como chave para combinar os dados. O parâmetro how='outer' garante que todos os registros de ambos os DataFrames sejam mantidos, sem perda de dados (mesmo que um arquivo não tenha dados para uma determinada UF).\n",
        "\n",
        "df_combinado.to_csv('brasil.csv', sep=';', index=False) #Salva o DataFrame combinado no arquivo brasil.csv com separador ; e sem o índice.\n",
        "\n",
        "print(f'Dados salvos em brasil.csv')"
      ]
    },
    {
      "cell_type": "markdown",
      "metadata": {
        "id": "waxn4B2UDHyl"
      },
      "source": [
        "---"
      ]
    },
    {
      "cell_type": "markdown",
      "metadata": {
        "id": "finLQoyyGVmk"
      },
      "source": [
        "## 2\\. Data Analytics"
      ]
    },
    {
      "cell_type": "markdown",
      "metadata": {
        "id": "Ab0GW19Ed1ig"
      },
      "source": [
        "### **2.1. DataFrame**"
      ]
    },
    {
      "cell_type": "markdown",
      "metadata": {
        "id": "l8jJYjeBdijt"
      },
      "source": [
        "Utilize o pacote Python `pandas` para carregar o arquivo `brasil.csv` no dataframe `brasil_df`."
      ]
    },
    {
      "cell_type": "code",
      "execution_count": null,
      "metadata": {
        "id": "8kFQLlqud4QL",
        "colab": {
          "base_uri": "https://localhost:8080/"
        },
        "outputId": "7bb6fcd1-2c8e-4372-e794-cecd7c8cb291"
      },
      "outputs": [
        {
          "output_type": "stream",
          "name": "stdout",
          "text": [
            "    ID  NOME SIGLA REGIAO  IDCAPITAL    UF                  nome  \\\n",
            "0  1.0  ACRE    AC  NORTE       16.0  ACRE  Marechal Thaumaturgo   \n",
            "1  1.0  ACRE    AC  NORTE       16.0  ACRE      Senador Guiomard   \n",
            "2  1.0  ACRE    AC  NORTE       16.0  ACRE          Assis Brasil   \n",
            "3  1.0  ACRE    AC  NORTE       16.0  ACRE        Epitaciolândia   \n",
            "4  1.0  ACRE    AC  NORTE       16.0  ACRE         Manoel Urbano   \n",
            "\n",
            "             PIB  Pop_est_2009  PIB_percapita  \n",
            "0  109181.867188       14275.0    7648.470215  \n",
            "1  217153.859375       19697.0   11024.719727  \n",
            "2   48347.300781        5662.0    8538.910156  \n",
            "3  129641.093750       14224.0    9114.250000  \n",
            "4   61478.730469        7505.0    8191.700195  \n"
          ]
        }
      ],
      "source": [
        "# solução do exercício 2.1\n",
        "\n",
        "import pandas as pd\n",
        "\n",
        "brasil_df = pd.read_csv('brasil.csv', sep=';') #Carregar o arquivo 'brasil.csv' no DataFrame\n",
        "\n",
        "print(brasil_df.head()) #primeiras linhas do DataFrame para garantir que os dados foram carregados corretamente"
      ]
    },
    {
      "cell_type": "code",
      "source": [
        "print(brasil_df) #exibir completo"
      ],
      "metadata": {
        "colab": {
          "base_uri": "https://localhost:8080/"
        },
        "id": "W3kq5BS_Ecrg",
        "outputId": "1139edf5-d9dc-4d9f-bba8-423812ea0fde"
      },
      "execution_count": null,
      "outputs": [
        {
          "output_type": "stream",
          "name": "stdout",
          "text": [
            "        ID       NOME SIGLA REGIAO  IDCAPITAL         UF  \\\n",
            "0      1.0       ACRE    AC  NORTE       16.0       ACRE   \n",
            "1      1.0       ACRE    AC  NORTE       16.0       ACRE   \n",
            "2      1.0       ACRE    AC  NORTE       16.0       ACRE   \n",
            "3      1.0       ACRE    AC  NORTE       16.0       ACRE   \n",
            "4      1.0       ACRE    AC  NORTE       16.0       ACRE   \n",
            "...    ...        ...   ...    ...        ...        ...   \n",
            "1726  26.0  TOCANTINS    TO  NORTE     4606.0  TOCANTINS   \n",
            "1727  26.0  TOCANTINS    TO  NORTE     4606.0  TOCANTINS   \n",
            "1728  26.0  TOCANTINS    TO  NORTE     4606.0  TOCANTINS   \n",
            "1729  26.0  TOCANTINS    TO  NORTE     4606.0  TOCANTINS   \n",
            "1730  26.0  TOCANTINS    TO  NORTE     4606.0  TOCANTINS   \n",
            "\n",
            "                      nome            PIB  Pop_est_2009  PIB_percapita  \n",
            "0     Marechal Thaumaturgo  109181.867188       14275.0    7648.470215  \n",
            "1         Senador Guiomard  217153.859375       19697.0   11024.719727  \n",
            "2             Assis Brasil   48347.300781        5662.0    8538.910156  \n",
            "3           Epitaciolândia  129641.093750       14224.0    9114.250000  \n",
            "4            Manoel Urbano   61478.730469        7505.0    8191.700195  \n",
            "...                    ...            ...           ...            ...  \n",
            "1726    Axixá do Tocantins   47001.585938        9203.0    5107.200195  \n",
            "1727            Araguatins  152885.484375       26771.0    5710.859863  \n",
            "1728            Taguatinga  110298.093750       14655.0    7526.310059  \n",
            "1729            Lavandeira   12126.014648        1683.0    7205.000000  \n",
            "1730           Abreulândia   17476.701172        2321.0    7529.819824  \n",
            "\n",
            "[1731 rows x 10 columns]\n"
          ]
        }
      ]
    },
    {
      "cell_type": "code",
      "source": [
        "brasil_df.rename(columns={'nome': 'CIDADE'}, inplace=True) # Renomear a coluna 'nome' para 'CIDADE'\n",
        "\n",
        "print(brasil_df.head())# Verificar se a alteração foi bem-sucedida"
      ],
      "metadata": {
        "colab": {
          "base_uri": "https://localhost:8080/"
        },
        "id": "5MzFnZraI7yG",
        "outputId": "4ccb8b4c-c26c-46a0-84e5-691fe0224757"
      },
      "execution_count": null,
      "outputs": [
        {
          "output_type": "stream",
          "name": "stdout",
          "text": [
            "    ID  NOME SIGLA REGIAO  IDCAPITAL    UF                CIDADE  \\\n",
            "0  1.0  ACRE    AC  NORTE       16.0  ACRE  Marechal Thaumaturgo   \n",
            "1  1.0  ACRE    AC  NORTE       16.0  ACRE      Senador Guiomard   \n",
            "2  1.0  ACRE    AC  NORTE       16.0  ACRE          Assis Brasil   \n",
            "3  1.0  ACRE    AC  NORTE       16.0  ACRE        Epitaciolândia   \n",
            "4  1.0  ACRE    AC  NORTE       16.0  ACRE         Manoel Urbano   \n",
            "\n",
            "             PIB  Pop_est_2009  PIB_percapita  \n",
            "0  109181.867188       14275.0    7648.470215  \n",
            "1  217153.859375       19697.0   11024.719727  \n",
            "2   48347.300781        5662.0    8538.910156  \n",
            "3  129641.093750       14224.0    9114.250000  \n",
            "4   61478.730469        7505.0    8191.700195  \n"
          ]
        }
      ]
    },
    {
      "cell_type": "code",
      "source": [
        "brasil_df.rename(columns={'NOME': 'ESTADO'}, inplace=True)\n",
        "\n",
        "print(brasil_df.head())"
      ],
      "metadata": {
        "colab": {
          "base_uri": "https://localhost:8080/"
        },
        "id": "7ghHOOWEJNTz",
        "outputId": "71a00bcc-7805-4b32-fa03-10f08ba8536d"
      },
      "execution_count": null,
      "outputs": [
        {
          "output_type": "stream",
          "name": "stdout",
          "text": [
            "    ID ESTADO SIGLA REGIAO  IDCAPITAL    UF                CIDADE  \\\n",
            "0  1.0   ACRE    AC  NORTE       16.0  ACRE  Marechal Thaumaturgo   \n",
            "1  1.0   ACRE    AC  NORTE       16.0  ACRE      Senador Guiomard   \n",
            "2  1.0   ACRE    AC  NORTE       16.0  ACRE          Assis Brasil   \n",
            "3  1.0   ACRE    AC  NORTE       16.0  ACRE        Epitaciolândia   \n",
            "4  1.0   ACRE    AC  NORTE       16.0  ACRE         Manoel Urbano   \n",
            "\n",
            "             PIB  Pop_est_2009  PIB_percapita  \n",
            "0  109181.867188       14275.0    7648.470215  \n",
            "1  217153.859375       19697.0   11024.719727  \n",
            "2   48347.300781        5662.0    8538.910156  \n",
            "3  129641.093750       14224.0    9114.250000  \n",
            "4   61478.730469        7505.0    8191.700195  \n"
          ]
        }
      ]
    },
    {
      "cell_type": "code",
      "source": [
        "print(brasil_df.head())"
      ],
      "metadata": {
        "colab": {
          "base_uri": "https://localhost:8080/"
        },
        "id": "bCDpTNViSIT1",
        "outputId": "aeb5b7a8-bd0d-417c-c29e-2f99d92e1e21"
      },
      "execution_count": null,
      "outputs": [
        {
          "output_type": "stream",
          "name": "stdout",
          "text": [
            "    ID ESTADO SIGLA REGIAO  IDCAPITAL    UF                CIDADE  \\\n",
            "0  1.0   ACRE    AC  NORTE       16.0  ACRE  Marechal Thaumaturgo   \n",
            "1  1.0   ACRE    AC  NORTE       16.0  ACRE      Senador Guiomard   \n",
            "2  1.0   ACRE    AC  NORTE       16.0  ACRE          Assis Brasil   \n",
            "3  1.0   ACRE    AC  NORTE       16.0  ACRE        Epitaciolândia   \n",
            "4  1.0   ACRE    AC  NORTE       16.0  ACRE         Manoel Urbano   \n",
            "\n",
            "             PIB  Pop_est_2009  PIB_percapita  \n",
            "0  109181.867188       14275.0    7648.470215  \n",
            "1  217153.859375       19697.0   11024.719727  \n",
            "2   48347.300781        5662.0    8538.910156  \n",
            "3  129641.093750       14224.0    9114.250000  \n",
            "4   61478.730469        7505.0    8191.700195  \n"
          ]
        }
      ]
    },
    {
      "cell_type": "markdown",
      "metadata": {
        "id": "ZFWvK8FXHuex"
      },
      "source": [
        "### **2.2. Analise**"
      ]
    },
    {
      "cell_type": "markdown",
      "metadata": {
        "id": "EGyz0R1dd62D"
      },
      "source": [
        "\n",
        "\n",
        "```\n",
        "# Isto está formatado como código\n",
        "```\n",
        "\n",
        "Utilize o dataframe `brasil_df` para responder as seguintes perguntas de negócio:"
      ]
    },
    {
      "cell_type": "markdown",
      "metadata": {
        "id": "lGnYVp7IeFBD"
      },
      "source": [
        " - Quais são as 10 cidades mais populosas do Brasil?"
      ]
    },
    {
      "cell_type": "code",
      "execution_count": null,
      "metadata": {
        "id": "KQKcD-VkeQYf",
        "colab": {
          "base_uri": "https://localhost:8080/"
        },
        "outputId": "89b16e8a-5bbd-4d6a-91c0-b3d5030e6644"
      },
      "outputs": [
        {
          "output_type": "stream",
          "name": "stdout",
          "text": [
            "                      UF                 CIDADE  Pop_est_2009\n",
            "1145      RIO DE JANEIRO         Rio de Janeiro     6186710.0\n",
            "109                BAHIA               Salvador     2998056.0\n",
            "53              AMAZONAS                 Manaus     1738641.0\n",
            "1289   RIO GRANDE DO SUL           Porto Alegre     1436123.0\n",
            "332                GOIÁS                Goiânia     1281975.0\n",
            "1585           SÃO PAULO  São Bernardo do Campo      810979.0\n",
            "1047               PIAUÍ               Teresina      802537.0\n",
            "494   MATO GROSSO DO SUL           Campo Grande      755107.0\n",
            "1591           SÃO PAULO            Santo André      673396.0\n",
            "688         MINAS GERAIS             Uberlândia      634345.0\n"
          ]
        }
      ],
      "source": [
        "# código para responder a pergunta\n",
        "\n",
        "top_10_cidades_populosas = brasil_df.sort_values(by='Pop_est_2009', ascending=False).head(10) #Ordenar o dataframe 'brasil_df' pela coluna 'Pop_est_2009' de forma decrescente\n",
        "\n",
        "print(top_10_cidades_populosas[['UF', 'CIDADE', 'Pop_est_2009']]) #Exibir as 10 cidades mais populosas"
      ]
    },
    {
      "cell_type": "markdown",
      "metadata": {
        "id": "l93St6uleWTp"
      },
      "source": [
        " - Quais são as 5 cidades com a menor PIB per capita da região nordeste?"
      ]
    },
    {
      "cell_type": "code",
      "execution_count": null,
      "metadata": {
        "id": "DS5akh2zeWTq",
        "colab": {
          "base_uri": "https://localhost:8080/"
        },
        "outputId": "d6be6a3b-8918-4eab-d9ff-048e49f7d078"
      },
      "outputs": [
        {
          "output_type": "stream",
          "name": "stdout",
          "text": [
            "          UF                CIDADE  PIB_percapita\n",
            "134    BAHIA               Lamarão    2327.149902\n",
            "43   ALAGOAS                Traipu    2649.479980\n",
            "22   ALAGOAS  Senador Rui Palmeira    2687.409912\n",
            "116    BAHIA          Souto Soares    2772.199951\n",
            "24   ALAGOAS           Mata Grande    2792.679932\n"
          ]
        }
      ],
      "source": [
        "# código para responder a pergunta\n",
        "\n",
        "nordeste_df = brasil_df[brasil_df['REGIAO'] == 'NORDESTE'] #Filtra as cidades da região Nordeste\n",
        "\n",
        "top_5_menor_pib_percapita = nordeste_df.sort_values(by='PIB_percapita').head(5) #Ordena as cidades do Nordeste pelo PIB per capita de forma crescente\n",
        "\n",
        "print(top_5_menor_pib_percapita[['UF', 'CIDADE', 'PIB_percapita']]) #Exibe as 5 cidades com o menor PIB per capita na região Nordeste\n"
      ]
    },
    {
      "cell_type": "markdown",
      "metadata": {
        "id": "GqwffgUmedmb"
      },
      "source": [
        " - Quais são as 15 cidades com maior PIB do do estado de São Paulo?"
      ]
    },
    {
      "cell_type": "code",
      "source": [
        "# código para responder a pergunta\n",
        "\n",
        "brasil_df['ESTADO'] = brasil_df['ESTADO'].str.strip() #Removendo espaços em branco da coluna 'ESTADO'\n",
        "print(brasil_df['ESTADO'].unique()) #Apenas para conferir os valores únicos"
      ],
      "metadata": {
        "colab": {
          "base_uri": "https://localhost:8080/"
        },
        "id": "kss1L0SVfEpL",
        "outputId": "94f4b90f-3143-481c-83a3-f33c54ca71d8"
      },
      "execution_count": null,
      "outputs": [
        {
          "output_type": "stream",
          "name": "stdout",
          "text": [
            "['ACRE' 'ALAGOAS' 'AMAPA' nan 'AMAZONAS' 'BAHIA' 'CEARA'\n",
            " 'DISTRITO FEDERAL' 'ESPIRITO SANTO' 'GOIAS' 'MARANHAO' 'MATO GROSSO'\n",
            " 'MATO GROSSO DO SUL' 'MINAS GERAIS' 'PARA' 'PARAIBA' 'PARANA'\n",
            " 'PERNAMBUCO' 'PIAUI' 'RIO DE JANEIRO' 'RIO GRANDE DO NORTE'\n",
            " 'RIO GRANDE DO SUL' 'RONDONIA' 'RORAIMA' 'SANTA CATARINA' 'SAO PAULO'\n",
            " 'SERGIPE' 'TOCANTINS']\n"
          ]
        }
      ]
    },
    {
      "cell_type": "code",
      "source": [
        "print(brasil_df['ESTADO'].isna().sum()) #Conta quantos valores NaN existem"
      ],
      "metadata": {
        "colab": {
          "base_uri": "https://localhost:8080/"
        },
        "id": "HQVmMJtmiCVd",
        "outputId": "b6b53070-c04f-4ecb-92ac-cc34f4eeaab4"
      },
      "execution_count": null,
      "outputs": [
        {
          "output_type": "stream",
          "name": "stdout",
          "text": [
            "717\n"
          ]
        }
      ]
    },
    {
      "cell_type": "code",
      "source": [
        "brasil_df = brasil_df.dropna(subset=['ESTADO'])\n",
        "print(brasil_df['ESTADO'].unique())"
      ],
      "metadata": {
        "colab": {
          "base_uri": "https://localhost:8080/"
        },
        "id": "ULenpAMiiUaM",
        "outputId": "9742ba98-0521-4a2b-c993-32dd1729e031"
      },
      "execution_count": null,
      "outputs": [
        {
          "output_type": "stream",
          "name": "stdout",
          "text": [
            "['ACRE' 'ALAGOAS' 'AMAPA' 'AMAZONAS' 'BAHIA' 'CEARA' 'DISTRITO FEDERAL'\n",
            " 'ESPIRITO SANTO' 'GOIAS' 'MARANHAO' 'MATO GROSSO' 'MATO GROSSO DO SUL'\n",
            " 'MINAS GERAIS' 'PARA' 'PARAIBA' 'PARANA' 'PERNAMBUCO' 'PIAUI'\n",
            " 'RIO DE JANEIRO' 'RIO GRANDE DO NORTE' 'RIO GRANDE DO SUL' 'RONDONIA'\n",
            " 'RORAIMA' 'SANTA CATARINA' 'SAO PAULO' 'SERGIPE' 'TOCANTINS']\n"
          ]
        }
      ]
    },
    {
      "cell_type": "code",
      "source": [
        "print(brasil_df['ESTADO'].isna().sum())"
      ],
      "metadata": {
        "colab": {
          "base_uri": "https://localhost:8080/"
        },
        "id": "YcGQCa0jikmv",
        "outputId": "0462e303-bb48-440e-f5ed-e4b21055580e"
      },
      "execution_count": null,
      "outputs": [
        {
          "output_type": "stream",
          "name": "stdout",
          "text": [
            "0\n"
          ]
        }
      ]
    },
    {
      "cell_type": "code",
      "source": [
        "brasil_df['CIDADE'] = brasil_df['CIDADE'].str.strip() #Removendo espaços em branco da coluna 'CIDADE'\n",
        "print(brasil_df['CIDADE'].unique()) #Apenas para conferir os valores únicos"
      ],
      "metadata": {
        "colab": {
          "base_uri": "https://localhost:8080/"
        },
        "id": "EogZJB1Kiru2",
        "outputId": "e50db6f2-668b-4ba8-9c00-d423dac54258"
      },
      "execution_count": null,
      "outputs": [
        {
          "output_type": "stream",
          "name": "stdout",
          "text": [
            "['Marechal Thaumaturgo' 'Senador Guiomard' 'Assis Brasil' 'Epitaciolândia'\n",
            " 'Manoel Urbano' 'Tarauacá' 'Mâncio Lima' 'Plácido de Castro'\n",
            " 'Dois Riachos' 'Belém' 'Santana do Mundaú' 'Campo Alegre'\n",
            " 'Passo de Camaragibe' 'Marechal Deodoro' 'São Miguel dos Milagres'\n",
            " \"Olho D'Água do Casado\" 'Paulo Jacinto' 'Pilar' 'Cacimbinhas' 'Jacuípe'\n",
            " 'Minador do Negrão' 'Anadia' 'Senador Rui Palmeira' 'Pariconha'\n",
            " 'Mata Grande' 'Messias' 'Taquarana' 'Teotônio Vilela' 'Canapi'\n",
            " \"Olho D'Água Grande\" 'Branquinha' 'Major Isidoro' 'Colônia Leopoldina'\n",
            " 'Coruripe' 'Novo Lino' 'Água Branca' 'Palmeira dos Índios' 'Batalha'\n",
            " 'Ibateguara' 'União dos Palmares' 'Ouro Branco' 'Junqueiro' 'São Brás'\n",
            " 'Traipu' 'Campestre' 'Jacaré dos Homens' nan 'Envira'\n",
            " 'Nova Olinda do Norte' 'Manaus' 'Rio Preto da Eva' 'Coari' 'Apuí'\n",
            " 'Urucará' 'Autazes' 'Anamã' 'Novo Airão' 'Itamarati' 'Benjamin Constant'\n",
            " 'Tabatinga' 'Codajás' 'Tremedal' 'Maetinga' 'Ibirapuã'\n",
            " 'Governador Mangabeira' 'Ibititá' 'Sátiro Dias' 'Irajuba' 'Itaquara'\n",
            " 'Cansanção' 'Itaparica' 'Nova Redenção' 'Ibicuí' 'Santa Rita de Cássia'\n",
            " 'Nordestina' 'Coronel João Sá' 'Pedro Alexandre' 'Prado' 'Iaçu' 'Araci'\n",
            " 'Coribe' 'Araças' 'Conceição do Almeida' 'Baianópolis' 'Cruz das Almas'\n",
            " 'Feira de Santana' 'Jaborandi' 'Santaluz' 'Alagoinhas' 'Itiruçu'\n",
            " 'Mulungu do Morro' 'Cabaceiras do Paraguaçu' 'Tanque Novo' 'Planaltino'\n",
            " 'Serrinha' 'Ipiaú' 'Conceição do Jacuípe' 'Ibirapitanga' 'Itapetinga'\n",
            " 'Umburanas' 'Brejões' 'Coaraci' 'Marcionílio Souza' 'Queimadas' 'Itabela'\n",
            " 'Salvador' 'Jussiape' 'Lençóis' 'Aramari' 'Ilhéus' 'Antônio Gonçalves'\n",
            " 'Abaíra' 'Souto Soares' 'Barro Alto' 'Ibipitanga' 'Canudos'\n",
            " 'João Dourado' 'Cristópolis' 'Ribeira do Pombal' 'Retirolândia'\n",
            " 'Caldeirão Grande' 'Santana' 'Santo Amaro' 'Irará' 'Ibirataia'\n",
            " 'Xique-Xique' 'Rio de Contas' 'Camacan' 'Nova Soure' 'Canápolis'\n",
            " 'Lamarão' 'Saubara' 'Contendas do Sincorá' 'Morpará' 'Pau Brasil'\n",
            " 'São Desidério' 'Aurelino Leal' 'Conde' 'Belmonte' 'Pojuca' 'Banzaê'\n",
            " 'Ituberá' 'Eunápolis' 'Manoel Vitorino' 'Santo Estêvão' 'Novo Horizonte'\n",
            " 'Dom Macedo Costa' 'Ponto Novo' 'Botuporã' 'Santa Maria da Vitória'\n",
            " 'Paripiranga' 'Capela do Alto Alegre' 'Jandaíra' 'Piatã' 'Aratuípe'\n",
            " 'Antônio Cardoso' 'Coração de Maria' 'Itajuípe' 'Serra Dourada'\n",
            " 'Conceição da Feira' 'Rio do Pires' 'Antas' 'Buerarema' 'Boquira'\n",
            " 'Palmas de Monte Alto' 'Santa Brígida' 'Itapebi' 'Rafael Jambeiro'\n",
            " 'Boninal' 'Malhada' 'Nova Canaã' 'Utinga' 'Uibaí' 'Potiraguá'\n",
            " 'Encruzilhada' 'Tapiramutá' 'Vereda' 'Barro Preto' 'Ipupiara' 'Itagi'\n",
            " 'Mucugê' 'Iraquara' 'Jacaraci' 'Itacaré' 'Itororó' 'Ourolândia' 'Aracatu'\n",
            " 'Vitória da Conquista' 'Condeúba' 'Jacobina' 'Mascote' 'Cardeal da silva'\n",
            " 'Jaguaquara' 'Gandu' 'Itaguaçu da Bahia' 'Cândido Sales' 'Cícero Dantas'\n",
            " 'Barra do Mendes' 'Jequié' 'Aporá' 'Vitória' 'Serra' 'Pancas'\n",
            " 'Alto Rio Novo' 'Vargem Alta' 'João Neiva' 'Guarapari' 'Ibitirama'\n",
            " 'Atilio Vivacqua' 'Divino de São Lourenço' 'Linhares'\n",
            " 'São Domingos do Norte' 'Águia Branca' 'Marilândia' 'Jaguaré'\n",
            " 'Água Doce do Norte' 'Pinheiros' 'Venda Nova do Imigrante' 'Itarana'\n",
            " 'Colatina' 'São Mateus' 'Aracruz' 'Laranja da Terra' 'Bom Jesus do Norte'\n",
            " 'Montanha' 'Novo Horizonte do Norte' 'Nova Santa Helena' 'Nova Guarita'\n",
            " 'Tapurah' 'Sapezal' 'Planalto da Serra' 'Gaúcha do Norte'\n",
            " 'São Pedro da Cipa' 'Cocalinho' 'Pontes e Lacerda' 'General Carneiro'\n",
            " 'Santa Carmem' \"Mirassol D'Oeste\" 'Canabrava do Norte' 'Araputanga'\n",
            " 'Campo Novo do Parecis' 'Nova Monte Verde' 'Cotriguaçu' 'Paranaíta'\n",
            " 'Ipiranga do Norte' 'Lucas do Rio Verde' 'Nova Olímpia' 'Vera' 'Nobres'\n",
            " 'Campo Verde' 'Araguaiana' 'Cuiabá' 'Juara' 'Tabaporã' 'Cláudia'\n",
            " 'Querência' 'Torixoréu' 'São José do Xingu' 'Ribeirão Cascalheira'\n",
            " 'Pedra Preta' 'Poconé' 'Nova Mutum' 'Nova Bandeirantes'\n",
            " 'São José dos Quatro Marcos' 'Alto Paraguai' 'Itanhangá' 'Juruena'\n",
            " 'Diamantino' 'Apiacás' 'Corumbá' 'Anastácio' 'Sonora' 'Alcinópolis'\n",
            " 'Angélica' 'Camapuã' 'Caracol' 'Aparecida do Taboado' 'Ponta Porã'\n",
            " 'Amambai' 'Sidrolândia' 'Bela Vista' 'Anaurilândia' 'Jardim'\n",
            " 'Porto Murtinho' 'Ivinhema' 'Coxim' 'Figueirão' 'Ribas do Rio Pardo'\n",
            " 'Campo Grande' 'Jacutinga' 'Pedra Azul' 'Santo Antônio do Retiro'\n",
            " 'Sericita' 'Diamantina' 'Cedro do Abaeté' 'Nova Lima' 'Igarapé'\n",
            " 'Santa Maria do Suaçuí' 'Catas Altas da Noruega' 'Pouso Alto' 'Campanha'\n",
            " 'Orizânia' 'Brasópolis' 'Leme do Prado' 'Rio Vermelho' 'Imbé de Minas'\n",
            " 'Douradoquara' 'Piranguçu' 'São João Evangelista' 'Ewbank da Câmara'\n",
            " 'Viçosa' 'Ubaporanga' 'Campo do Meio' 'Aricanduva' 'Catuti' 'Inhapim'\n",
            " 'Serra Azul de Minas' 'Passa-Vinte' 'Juruaia' 'Araújos'\n",
            " 'São Sebastião do Oeste' 'Santos Dumont' 'Congonhal' 'Silveirânia'\n",
            " 'São Romão' 'São João das Missões' 'Lima Duarte' 'Comercinho'\n",
            " 'Cordislândia' 'Santa Helena de Minas' 'Leopoldina' 'Machado' 'Coroaci'\n",
            " 'Rubim' 'Patrocínio do Muriaé' 'Conceição do Pará' 'Capitão Enéas'\n",
            " 'Nova Serrana' 'Pedro Leopoldo' 'Rio Espera' 'Guarani' 'Aguanil'\n",
            " 'Ribeirão das Neves' 'Itutinga' 'Sabará' 'São Geraldo do Baixio'\n",
            " 'Lagoa Santa' 'Senador Cortes' 'Nepomuceno' 'Brás Pires' 'Monte Azul'\n",
            " 'Tupaciguara' 'Sacramento' 'Jequitaí' 'Águas Formosas' 'Pompéu'\n",
            " 'Veríssimo' 'Cachoeira da Prata' 'São Gonçalo do Pará' 'Caraí'\n",
            " 'Resplendor' 'Seritinga' 'Taparuba' 'Machacalis' 'Consolação'\n",
            " 'Muzambinho' 'Cascalho Rico' 'Lontra' 'Itapecerica' 'Recreio' 'Mantena'\n",
            " 'Wenceslau Braz' 'Dores de Campos' 'Malacacheta' 'Rio Novo' 'Açucena'\n",
            " 'Várzea da Palma' 'Natércia' 'São José da Safira' 'São Félix de Minas'\n",
            " 'Tapiraí' 'Vargem Grande do Rio Pardo' 'Careaçu' 'São Lourenço'\n",
            " 'Chapada Gaúcha' 'Vermelho Novo' 'São João do Oriente' 'Guapé' 'Sardoá'\n",
            " 'Campo Azul' 'Nova Porteirinha' 'Juiz de Fora' 'Bueno Brandão'\n",
            " 'Carmo do Rio Claro' 'Varzelândia' 'Silvianópolis' 'Mercês'\n",
            " 'Morada Nova de Minas' 'Nova Belém' 'Nazareno' 'Coronel Xavier Chaves'\n",
            " 'Desterro do Melo' 'Guimarânia' 'Caranaíba' 'Rodeiro' 'Paraisópolis'\n",
            " 'Rochedo de Minas' 'Engenheiro Navarro' 'Raul Soares' 'Pescador'\n",
            " 'Cabeceira Grande' 'Senhora de Oliveira' 'Presidente Olegário'\n",
            " 'Heliodora' 'Cordisburgo' 'Guanhães' 'Gouveia' 'Itanhandu'\n",
            " 'Novo Cruzeiro' 'Pará de Minas' 'São Tiago' 'Cruzeiro da Fortaleza'\n",
            " 'Ingaí' 'Munhoz' 'Serranos' 'Monjolos' 'Quartel Geral' 'Goiabeira'\n",
            " 'Jaboticatubas' 'Divinolândia de Minas' 'Delfim Moreira'\n",
            " 'São Gonçalo do Rio Preto' 'Frei Gaspar' 'Marilac' 'Funilândia'\n",
            " 'Três Corações' 'Itaipé' 'Mendes Pimentel' 'São João do Manteninha'\n",
            " 'Arcos' 'Iraí de Minas' 'Mesquita' 'São José da Varginha'\n",
            " 'União de Minas' 'Pedra Dourada' 'Taquaraçu de Minas'\n",
            " 'Fernandes Tourinho' 'Ataléia' 'Campos Gerais' 'Perdões' 'Cláudio'\n",
            " 'Pedralva' 'São João do Paraíso' 'Delfinópolis' 'Fruta de Leite'\n",
            " 'Iturama' 'Cantagalo' 'Bertópolis' 'São João da Mata' 'Coqueiral'\n",
            " 'Guarará' 'Cássia' 'Monsenhor Paulo' 'Centralina' 'Santana de Pirapama'\n",
            " 'Barra Longa' 'Fama' 'Caratinga' 'Ervália' 'Jequitinhonha' 'Jordânia'\n",
            " 'Espera Feliz' 'Itueta' 'Caetanópolis' 'Carvalhópolis' 'Araguari'\n",
            " 'Araçaí' 'Janaúba' 'Bambuí' 'Água Comprida' 'Araxá' 'Unaí' 'Uberlândia'\n",
            " 'Carmo da Cachoeira' \"Pingo-d'Água\" 'Iguatama' 'Alto Caparaó'\n",
            " 'Coronel Murta' 'Cristina' 'Teófilo Otoni' 'São Sebastião da Bela Vista'\n",
            " 'Itambacuri' 'Alvarenga' 'Matias Cardoso' 'Oliveira Fortes'\n",
            " 'Rio Piracicaba' 'Uruana de Minas' 'Alfredo Vasconcelos' 'Vargem Bonita'\n",
            " 'Itaguara' 'Madre de Deus de Minas' 'Ibiraci' 'Santa Rita de Caldas'\n",
            " 'Carrancas' 'Belo Oriente' 'Campanário' 'Água Boa' 'Coronel Pacheco'\n",
            " 'Ibirité' 'Itamarati de Minas' 'Albertina' 'Rio do Prado' 'Ibituruna'\n",
            " 'Bom Sucesso' 'Capela Nova' 'Abaeté' 'Mathias Lobato'\n",
            " 'Serranópolis de Minas' 'Rio Casca' 'Fortaleza de Minas' 'Josenópolis'\n",
            " 'Sem-Peixe' 'Águas Vermelhas' 'Itamogi' 'Tombos' 'Ipiaçu'\n",
            " 'Limeira do Oeste' 'Ribeirão Vermelho' 'Setubinha' 'Ponte Nova'\n",
            " 'Itapagipe' 'Itamonte' 'São Pedro do Suaçuí' 'Amparo do Serra'\n",
            " 'Senhora dos Remédios' 'Medeiros' 'Guaraciama' 'Poço Fundo' 'Timóteo'\n",
            " 'Alto Rio Doce' 'Materlândia' 'Ouro Preto' 'Santana do Garambéu'\n",
            " 'Resende Costa' 'Aimorés' 'Campo Florido' 'Camacho' 'Olímpio Noronha'\n",
            " 'Ipuiúna' 'Divisa Alegre' 'Cachoeirinha' 'Fernando de Noronha'\n",
            " 'Alagoinha' 'Barra de Guabiraba' 'Palmares' 'Cabrobó' 'Angelim'\n",
            " 'Santa Maria do Cambucá' 'Lagoa do Ouro' 'Joaquim Nabuco' 'Santa Cruz'\n",
            " 'Petrolina' 'Bezerros' 'Limoeiro' 'Goiana' 'Iguaraci' 'Tacaratu'\n",
            " 'Água Preta' 'Venturosa' 'Lagoa do Itaenga' 'Cupira' 'Tuparetama'\n",
            " 'Camaragibe' 'Araripina' 'Águas Belas' 'Tamandaré'\n",
            " 'Santa Maria da Boa Vista' 'Paulista' 'Capoeiras' 'São José do Belmonte'\n",
            " 'Belo Jardim' 'Sairé' 'Nazaré da Mata' 'Bom Jardim' 'Correntes' 'Granito'\n",
            " 'Salgadinho' 'Tacaimbó' 'Jatobá' 'Vertente do Lério' 'Glória do Goitá'\n",
            " 'Flores' 'Camutanga' 'Ibirajuba' 'Itacuruba' 'Lagoa do Carro'\n",
            " 'Serra Talhada' 'Jataúba' 'Salgueiro' 'Pombos' 'Tracunhaém'\n",
            " 'João Alfredo' 'Chã Grande' 'São Lourenço da Mata' 'Sanharó'\n",
            " 'Carnaubeira da Penha' 'Belém de Maria' 'Ipojuca' 'Itaguaí' 'Três Rios'\n",
            " 'Varre-Sai' 'Cardoso Moreira' 'Queimados' 'São Sebastião do Alto'\n",
            " 'Nilópolis' 'Petrópolis' 'São Fidélis' 'Areal' 'Natividade'\n",
            " 'São João de Meriti' 'Comendador Levy Gasparian' 'Sumidouro'\n",
            " 'Laje do Muriaé' 'Rio de Janeiro' 'Seropédica' 'Armação dos Búzios'\n",
            " 'Aperibé' 'Quissamã' 'Duas Barras' 'Macaé' 'Porto Real' 'Rafael Godeiro'\n",
            " 'Taipu' 'Caiçara do Norte' 'Fernando Pedroza' 'Messias Targino'\n",
            " 'Riacho da Cruz' 'Tenente Laurentino Cruz' 'São José de Mipibu'\n",
            " 'Ruy Barbosa' 'Senador Georgino Avelino' 'Baía Formosa' 'Bodó'\n",
            " 'Marcelino Vieira' \"Lagoa D'Anta\" 'José da Penha' 'Areia Branca'\n",
            " 'Pendências' 'Lagoa Salgada' 'Carnaubais' 'Janduís' 'Monte Alegre'\n",
            " 'Upanema' 'Itajá' 'São Vicente' 'Água Nova' 'Apodi' 'Macau'\n",
            " 'Governador Dix-Sept Rosado' 'Vila Flor' 'Patu' 'Serra do Mel' 'Baraúna'\n",
            " 'Jardim de Piranhas' 'Serra Negra do Norte' 'Venha-Ver' 'Ceará-Mirim'\n",
            " 'Brejinho' 'João Câmara' 'São Paulo do Potengi' 'Paraná'\n",
            " 'São Francisco do Oeste' 'Acari' 'Angicos' 'Parelhas' 'Januário Cicco'\n",
            " 'Parnamirim' 'Passagem' 'Ipueira' 'Severiano Melo' 'Turuçu'\n",
            " 'Frederico Westphalen' 'Paulo Bento' 'Cacequi' 'Engenho Velho'\n",
            " 'Arvorezinha' 'Palmeira das Missões' 'Monte Belo do Sul' 'São Jerônimo'\n",
            " 'Erval Grande' 'Chuí' 'Sarandi' 'Casca' 'Protásio Alves' 'Cacique Doble'\n",
            " 'Porto Xavier' 'Jari' 'Caiçara' 'Ibiraiaras' 'Westfalia' 'Alecrim'\n",
            " 'Anta Gorda' 'Campo Bom' 'Coronel Bicaco' 'São Francisco de Assis'\n",
            " 'Ajuricaba' 'Boa Vista das Missões' 'Carlos Gomes' 'Cerro Branco'\n",
            " 'Garruchos' 'São Vendelino' 'Capão do Leão' 'Vale do Sol'\n",
            " 'Três Cachoeiras' 'Tunas' 'Lajeado do Bugre' 'Harmonia' 'Mariano Moro'\n",
            " 'Sentinela do Sul' 'Sertão Santana' 'Butiá' 'Cidreira' 'Planalto'\n",
            " 'Capitão' 'Veranópolis' 'Eugênio de Castro' 'Portão' 'Água Santa'\n",
            " 'Formigueiro' 'Putinga' 'Nova Palma' 'Capela de Santana' 'Restinga Seca'\n",
            " 'Itati' 'Rio dos Índios' 'Bagé' 'Erval Seco' 'Catuípe' 'Palmares do Sul'\n",
            " 'Lagoa Vermelha' 'São Paulo das Missões' 'Colinas' 'Sério' 'Triunfo'\n",
            " 'Panambi' 'Coronel Barros' 'Maratá' 'Itatiba do Sul' 'Eldorado do Sul'\n",
            " 'São José do Herval' 'Redentora' 'Três de Maio' 'Colorado'\n",
            " 'Nova Petrópolis' 'Viamão' 'Novo Barreiro' 'Pinhal Grande'\n",
            " 'Nova Santa Rita' 'Candiota' 'Estação' 'Lagoa Bonita do Sul'\n",
            " 'Boa Vista do Incra' 'Ametista do Sul' 'Mata' 'Porto Alegre' 'Ubiretama'\n",
            " 'Ibiaçá' 'Gaurama' 'São Leopoldo' 'Canoas' 'Três Forquilhas'\n",
            " 'Barão do Triunfo' 'Senador Salgado Filho' 'Amaral Ferrador' 'Toropi'\n",
            " 'Tiradentes do Sul' 'Doutor Maurício Cardoso' 'Itapuca' 'Centenário'\n",
            " 'Poço das Antas' 'Cotiporã' 'Pirapó' 'Barra do Quaraí' 'Nova Alvorada'\n",
            " 'Morro Redondo' 'Horizontina' 'Ernestina' 'São José dos Ausentes'\n",
            " 'Santo Antônio das Missões' 'Esmeralda' 'Dona Francisca' 'Hulha Negra'\n",
            " 'Mampituba' 'Tapes' 'Arambaré' 'Tavares' 'Balneário Pinhal'\n",
            " 'Barra do Rio Azul' 'São Vicente do Sul' 'Jaguarão' 'Faxinal do Soturno'\n",
            " 'Tucunduva' 'Cândido Godói' 'Nova Pádua' 'Igrejinha' 'Dom Pedrito'\n",
            " 'Caçapava do Sul' 'Novo Xingu' 'Vitória das Missões' 'Travesseiro'\n",
            " 'Rio Grande' 'Quatro Irmãos' 'Sananduva' 'São Pedro da Serra'\n",
            " 'Santa Cecília do Sul' 'Derrubadas' 'São Gabriel' 'Picada Café'\n",
            " 'Bom Jesus' 'Pinheirinho do Vale' 'Piratini' 'Crissiumal'\n",
            " 'Roque Gonzales' 'Selbach' 'Glorinha' 'Capão Bonito do Sul' 'Pareci Novo'\n",
            " 'Muçum' 'Chiapetta' 'Chuvisca' 'São João da Baliza' 'Pacaraima' 'Mucajaí'\n",
            " 'Bonfim' 'Otacílio Costa' 'José Boiteux' 'Cordilheira Alta' 'Meleiro'\n",
            " 'São José do Cerrito' 'Peritiba' 'Santa Cecília' 'São João do Sul'\n",
            " 'Rio das Antas' 'Morro da Fumaça' 'Ermo' 'Rio do Sul' 'Três Barras'\n",
            " 'Cunha Porã' 'Itapoá' 'Ouro Verde' 'Jardinópolis' 'Abdon Batista'\n",
            " 'Bom Jardim da Serra' 'Timbó' 'São Joaquim' 'Palma Sola' 'Cunhataí'\n",
            " 'Siderópolis' 'Barra Velha' 'Brusque' 'São José do Cedro'\n",
            " 'Santa Terezinha do Progresso' 'Balneário Piçarras' 'Planalto Alegre'\n",
            " 'Petrolândia' 'Witmarsum' 'Major Vieira' 'Águas Frias' 'Modelo'\n",
            " 'Chapadão do Lageado' 'Passo de Torres' 'Major Gercino' 'Ascurra'\n",
            " 'Porto União' 'Schroeder' 'Guaramirim' 'Presidente Nereu' 'Apiúna'\n",
            " 'São José' 'São Cristovão do Sul' 'Camboriú' 'Içara' 'Monte Carlo'\n",
            " 'Benedito Novo' 'Coronel Freitas' 'Tigrinhos' 'Faxinal dos Guedes'\n",
            " 'Capinzal' 'Garopaba' 'Águas Mornas' 'Trombudo Central' 'Laurentino'\n",
            " 'Porto Belo' 'Blumenau' 'Corupá' 'Florianópolis' 'Rio dos Cedros'\n",
            " 'Ipumirim' 'Luiz Alves' 'Doutor Pedrinho' 'Painel' 'Arroio Trinta'\n",
            " 'Ibirama' 'Jaraguá do Sul' 'Guarujá do Sul' 'Irineópolis' 'Caibi'\n",
            " 'Gaspar' 'Taió' 'São Bento do Sul' 'Bom Jesus do Oeste' 'Pinheiro Preto'\n",
            " 'Concórdia' \"Herval D'Oeste\" 'Palhoça' 'Bocaina do Sul' 'Princesa'\n",
            " 'Leoberto Leal' 'Indaial' 'Amparo de São Francisco' 'Brejo Grande'\n",
            " 'Tomar do Geru' 'Santana do São Francisco' 'Indiaroba' 'Poço Redondo'\n",
            " 'Pacatuba' 'Maruim' 'Telha' 'Poço Verde' 'Itabaiana' 'São Domingos'\n",
            " 'Japoatã' 'Santo Amaro das Brotas' 'Canhoba' 'Macambira' 'Campo do Brito'\n",
            " 'Nossa Senhora das Dores' 'Siriri' 'São Francisco' 'General Maynard'\n",
            " 'Aracaju' 'Pinhão' 'Ananás' 'Oliveira de Fátima' 'Aliança do Tocantins'\n",
            " 'Lagoa da Confusão' 'Buriti do Tocantins' 'Sucupira' 'Novo Jardim'\n",
            " 'Angico' 'Palmeirópolis' 'Santa Fé do Araguaia' 'Formoso do Araguaia'\n",
            " 'Paranã' 'Crixás do Tocantins' 'Pedro Afonso' 'Santa Tereza do Tocantins'\n",
            " 'Dois Irmãos do Tocantins' 'Porto Nacional' 'Colinas do Tocantins'\n",
            " 'Presidente Kennedy' 'São Valério' 'Miracema do Tocantins' 'Filadélfia'\n",
            " 'Almas' 'Santa Rita do Tocantins' 'Luzinópolis' 'Esperantina'\n",
            " 'Pequizeiro' 'Xambioá' 'Divinópolis do Tocantins' 'Dueré' 'Recursolândia'\n",
            " \"Pau D'arco\" 'Itapiratins' 'Araguaína' 'Chapada de Areia' 'Silvanópolis'\n",
            " 'Carrasco Bonito' 'Augustinópolis' 'Taipas do Tocantins' 'Tocantinópolis'\n",
            " 'Juarina' 'Ponte Alta do Tocantins' 'São Bento do Tocantins' 'Tocantínia'\n",
            " 'Bernardo Sayão' 'Cristalândia' 'Combinado' 'Ponte Alta do Bom Jesus'\n",
            " 'Gurupi' 'Axixá do Tocantins' 'Araguatins' 'Taguatinga' 'Lavandeira'\n",
            " 'Abreulândia']\n"
          ]
        }
      ]
    },
    {
      "cell_type": "code",
      "source": [
        "print(brasil_df['CIDADE'].isna().sum()) #Conta quantos valores NaN existem"
      ],
      "metadata": {
        "colab": {
          "base_uri": "https://localhost:8080/"
        },
        "id": "bfiz2xEojHQo",
        "outputId": "cfd609be-cd2a-45f6-bdde-a61c114deb31"
      },
      "execution_count": null,
      "outputs": [
        {
          "output_type": "stream",
          "name": "stdout",
          "text": [
            "11\n"
          ]
        }
      ]
    },
    {
      "cell_type": "code",
      "source": [
        "brasil_df = brasil_df.dropna(subset=['CIDADE'])\n",
        "print(brasil_df['CIDADE'].unique())"
      ],
      "metadata": {
        "colab": {
          "base_uri": "https://localhost:8080/"
        },
        "id": "eh12iXJxjNbM",
        "outputId": "d7d27ce5-c722-495b-89f7-ec9b8164a05e"
      },
      "execution_count": null,
      "outputs": [
        {
          "output_type": "stream",
          "name": "stdout",
          "text": [
            "['Marechal Thaumaturgo' 'Senador Guiomard' 'Assis Brasil' 'Epitaciolândia'\n",
            " 'Manoel Urbano' 'Tarauacá' 'Mâncio Lima' 'Plácido de Castro'\n",
            " 'Dois Riachos' 'Belém' 'Santana do Mundaú' 'Campo Alegre'\n",
            " 'Passo de Camaragibe' 'Marechal Deodoro' 'São Miguel dos Milagres'\n",
            " \"Olho D'Água do Casado\" 'Paulo Jacinto' 'Pilar' 'Cacimbinhas' 'Jacuípe'\n",
            " 'Minador do Negrão' 'Anadia' 'Senador Rui Palmeira' 'Pariconha'\n",
            " 'Mata Grande' 'Messias' 'Taquarana' 'Teotônio Vilela' 'Canapi'\n",
            " \"Olho D'Água Grande\" 'Branquinha' 'Major Isidoro' 'Colônia Leopoldina'\n",
            " 'Coruripe' 'Novo Lino' 'Água Branca' 'Palmeira dos Índios' 'Batalha'\n",
            " 'Ibateguara' 'União dos Palmares' 'Ouro Branco' 'Junqueiro' 'São Brás'\n",
            " 'Traipu' 'Campestre' 'Jacaré dos Homens' 'Envira' 'Nova Olinda do Norte'\n",
            " 'Manaus' 'Rio Preto da Eva' 'Coari' 'Apuí' 'Urucará' 'Autazes' 'Anamã'\n",
            " 'Novo Airão' 'Itamarati' 'Benjamin Constant' 'Tabatinga' 'Codajás'\n",
            " 'Tremedal' 'Maetinga' 'Ibirapuã' 'Governador Mangabeira' 'Ibititá'\n",
            " 'Sátiro Dias' 'Irajuba' 'Itaquara' 'Cansanção' 'Itaparica'\n",
            " 'Nova Redenção' 'Ibicuí' 'Santa Rita de Cássia' 'Nordestina'\n",
            " 'Coronel João Sá' 'Pedro Alexandre' 'Prado' 'Iaçu' 'Araci' 'Coribe'\n",
            " 'Araças' 'Conceição do Almeida' 'Baianópolis' 'Cruz das Almas'\n",
            " 'Feira de Santana' 'Jaborandi' 'Santaluz' 'Alagoinhas' 'Itiruçu'\n",
            " 'Mulungu do Morro' 'Cabaceiras do Paraguaçu' 'Tanque Novo' 'Planaltino'\n",
            " 'Serrinha' 'Ipiaú' 'Conceição do Jacuípe' 'Ibirapitanga' 'Itapetinga'\n",
            " 'Umburanas' 'Brejões' 'Coaraci' 'Marcionílio Souza' 'Queimadas' 'Itabela'\n",
            " 'Salvador' 'Jussiape' 'Lençóis' 'Aramari' 'Ilhéus' 'Antônio Gonçalves'\n",
            " 'Abaíra' 'Souto Soares' 'Barro Alto' 'Ibipitanga' 'Canudos'\n",
            " 'João Dourado' 'Cristópolis' 'Ribeira do Pombal' 'Retirolândia'\n",
            " 'Caldeirão Grande' 'Santana' 'Santo Amaro' 'Irará' 'Ibirataia'\n",
            " 'Xique-Xique' 'Rio de Contas' 'Camacan' 'Nova Soure' 'Canápolis'\n",
            " 'Lamarão' 'Saubara' 'Contendas do Sincorá' 'Morpará' 'Pau Brasil'\n",
            " 'São Desidério' 'Aurelino Leal' 'Conde' 'Belmonte' 'Pojuca' 'Banzaê'\n",
            " 'Ituberá' 'Eunápolis' 'Manoel Vitorino' 'Santo Estêvão' 'Novo Horizonte'\n",
            " 'Dom Macedo Costa' 'Ponto Novo' 'Botuporã' 'Santa Maria da Vitória'\n",
            " 'Paripiranga' 'Capela do Alto Alegre' 'Jandaíra' 'Piatã' 'Aratuípe'\n",
            " 'Antônio Cardoso' 'Coração de Maria' 'Itajuípe' 'Serra Dourada'\n",
            " 'Conceição da Feira' 'Rio do Pires' 'Antas' 'Buerarema' 'Boquira'\n",
            " 'Palmas de Monte Alto' 'Santa Brígida' 'Itapebi' 'Rafael Jambeiro'\n",
            " 'Boninal' 'Malhada' 'Nova Canaã' 'Utinga' 'Uibaí' 'Potiraguá'\n",
            " 'Encruzilhada' 'Tapiramutá' 'Vereda' 'Barro Preto' 'Ipupiara' 'Itagi'\n",
            " 'Mucugê' 'Iraquara' 'Jacaraci' 'Itacaré' 'Itororó' 'Ourolândia' 'Aracatu'\n",
            " 'Vitória da Conquista' 'Condeúba' 'Jacobina' 'Mascote' 'Cardeal da silva'\n",
            " 'Jaguaquara' 'Gandu' 'Itaguaçu da Bahia' 'Cândido Sales' 'Cícero Dantas'\n",
            " 'Barra do Mendes' 'Jequié' 'Aporá' 'Vitória' 'Serra' 'Pancas'\n",
            " 'Alto Rio Novo' 'Vargem Alta' 'João Neiva' 'Guarapari' 'Ibitirama'\n",
            " 'Atilio Vivacqua' 'Divino de São Lourenço' 'Linhares'\n",
            " 'São Domingos do Norte' 'Águia Branca' 'Marilândia' 'Jaguaré'\n",
            " 'Água Doce do Norte' 'Pinheiros' 'Venda Nova do Imigrante' 'Itarana'\n",
            " 'Colatina' 'São Mateus' 'Aracruz' 'Laranja da Terra' 'Bom Jesus do Norte'\n",
            " 'Montanha' 'Novo Horizonte do Norte' 'Nova Santa Helena' 'Nova Guarita'\n",
            " 'Tapurah' 'Sapezal' 'Planalto da Serra' 'Gaúcha do Norte'\n",
            " 'São Pedro da Cipa' 'Cocalinho' 'Pontes e Lacerda' 'General Carneiro'\n",
            " 'Santa Carmem' \"Mirassol D'Oeste\" 'Canabrava do Norte' 'Araputanga'\n",
            " 'Campo Novo do Parecis' 'Nova Monte Verde' 'Cotriguaçu' 'Paranaíta'\n",
            " 'Ipiranga do Norte' 'Lucas do Rio Verde' 'Nova Olímpia' 'Vera' 'Nobres'\n",
            " 'Campo Verde' 'Araguaiana' 'Cuiabá' 'Juara' 'Tabaporã' 'Cláudia'\n",
            " 'Querência' 'Torixoréu' 'São José do Xingu' 'Ribeirão Cascalheira'\n",
            " 'Pedra Preta' 'Poconé' 'Nova Mutum' 'Nova Bandeirantes'\n",
            " 'São José dos Quatro Marcos' 'Alto Paraguai' 'Itanhangá' 'Juruena'\n",
            " 'Diamantino' 'Apiacás' 'Corumbá' 'Anastácio' 'Sonora' 'Alcinópolis'\n",
            " 'Angélica' 'Camapuã' 'Caracol' 'Aparecida do Taboado' 'Ponta Porã'\n",
            " 'Amambai' 'Sidrolândia' 'Bela Vista' 'Anaurilândia' 'Jardim'\n",
            " 'Porto Murtinho' 'Ivinhema' 'Coxim' 'Figueirão' 'Ribas do Rio Pardo'\n",
            " 'Campo Grande' 'Jacutinga' 'Pedra Azul' 'Santo Antônio do Retiro'\n",
            " 'Sericita' 'Diamantina' 'Cedro do Abaeté' 'Nova Lima' 'Igarapé'\n",
            " 'Santa Maria do Suaçuí' 'Catas Altas da Noruega' 'Pouso Alto' 'Campanha'\n",
            " 'Orizânia' 'Brasópolis' 'Leme do Prado' 'Rio Vermelho' 'Imbé de Minas'\n",
            " 'Douradoquara' 'Piranguçu' 'São João Evangelista' 'Ewbank da Câmara'\n",
            " 'Viçosa' 'Ubaporanga' 'Campo do Meio' 'Aricanduva' 'Catuti' 'Inhapim'\n",
            " 'Serra Azul de Minas' 'Passa-Vinte' 'Juruaia' 'Araújos'\n",
            " 'São Sebastião do Oeste' 'Santos Dumont' 'Congonhal' 'Silveirânia'\n",
            " 'São Romão' 'São João das Missões' 'Lima Duarte' 'Comercinho'\n",
            " 'Cordislândia' 'Santa Helena de Minas' 'Leopoldina' 'Machado' 'Coroaci'\n",
            " 'Rubim' 'Patrocínio do Muriaé' 'Conceição do Pará' 'Capitão Enéas'\n",
            " 'Nova Serrana' 'Pedro Leopoldo' 'Rio Espera' 'Guarani' 'Aguanil'\n",
            " 'Ribeirão das Neves' 'Itutinga' 'Sabará' 'São Geraldo do Baixio'\n",
            " 'Lagoa Santa' 'Senador Cortes' 'Nepomuceno' 'Brás Pires' 'Monte Azul'\n",
            " 'Tupaciguara' 'Sacramento' 'Jequitaí' 'Águas Formosas' 'Pompéu'\n",
            " 'Veríssimo' 'Cachoeira da Prata' 'São Gonçalo do Pará' 'Caraí'\n",
            " 'Resplendor' 'Seritinga' 'Taparuba' 'Machacalis' 'Consolação'\n",
            " 'Muzambinho' 'Cascalho Rico' 'Lontra' 'Itapecerica' 'Recreio' 'Mantena'\n",
            " 'Wenceslau Braz' 'Dores de Campos' 'Malacacheta' 'Rio Novo' 'Açucena'\n",
            " 'Várzea da Palma' 'Natércia' 'São José da Safira' 'São Félix de Minas'\n",
            " 'Tapiraí' 'Vargem Grande do Rio Pardo' 'Careaçu' 'São Lourenço'\n",
            " 'Chapada Gaúcha' 'Vermelho Novo' 'São João do Oriente' 'Guapé' 'Sardoá'\n",
            " 'Campo Azul' 'Nova Porteirinha' 'Juiz de Fora' 'Bueno Brandão'\n",
            " 'Carmo do Rio Claro' 'Varzelândia' 'Silvianópolis' 'Mercês'\n",
            " 'Morada Nova de Minas' 'Nova Belém' 'Nazareno' 'Coronel Xavier Chaves'\n",
            " 'Desterro do Melo' 'Guimarânia' 'Caranaíba' 'Rodeiro' 'Paraisópolis'\n",
            " 'Rochedo de Minas' 'Engenheiro Navarro' 'Raul Soares' 'Pescador'\n",
            " 'Cabeceira Grande' 'Senhora de Oliveira' 'Presidente Olegário'\n",
            " 'Heliodora' 'Cordisburgo' 'Guanhães' 'Gouveia' 'Itanhandu'\n",
            " 'Novo Cruzeiro' 'Pará de Minas' 'São Tiago' 'Cruzeiro da Fortaleza'\n",
            " 'Ingaí' 'Munhoz' 'Serranos' 'Monjolos' 'Quartel Geral' 'Goiabeira'\n",
            " 'Jaboticatubas' 'Divinolândia de Minas' 'Delfim Moreira'\n",
            " 'São Gonçalo do Rio Preto' 'Frei Gaspar' 'Marilac' 'Funilândia'\n",
            " 'Três Corações' 'Itaipé' 'Mendes Pimentel' 'São João do Manteninha'\n",
            " 'Arcos' 'Iraí de Minas' 'Mesquita' 'São José da Varginha'\n",
            " 'União de Minas' 'Pedra Dourada' 'Taquaraçu de Minas'\n",
            " 'Fernandes Tourinho' 'Ataléia' 'Campos Gerais' 'Perdões' 'Cláudio'\n",
            " 'Pedralva' 'São João do Paraíso' 'Delfinópolis' 'Fruta de Leite'\n",
            " 'Iturama' 'Cantagalo' 'Bertópolis' 'São João da Mata' 'Coqueiral'\n",
            " 'Guarará' 'Cássia' 'Monsenhor Paulo' 'Centralina' 'Santana de Pirapama'\n",
            " 'Barra Longa' 'Fama' 'Caratinga' 'Ervália' 'Jequitinhonha' 'Jordânia'\n",
            " 'Espera Feliz' 'Itueta' 'Caetanópolis' 'Carvalhópolis' 'Araguari'\n",
            " 'Araçaí' 'Janaúba' 'Bambuí' 'Água Comprida' 'Araxá' 'Unaí' 'Uberlândia'\n",
            " 'Carmo da Cachoeira' \"Pingo-d'Água\" 'Iguatama' 'Alto Caparaó'\n",
            " 'Coronel Murta' 'Cristina' 'Teófilo Otoni' 'São Sebastião da Bela Vista'\n",
            " 'Itambacuri' 'Alvarenga' 'Matias Cardoso' 'Oliveira Fortes'\n",
            " 'Rio Piracicaba' 'Uruana de Minas' 'Alfredo Vasconcelos' 'Vargem Bonita'\n",
            " 'Itaguara' 'Madre de Deus de Minas' 'Ibiraci' 'Santa Rita de Caldas'\n",
            " 'Carrancas' 'Belo Oriente' 'Campanário' 'Água Boa' 'Coronel Pacheco'\n",
            " 'Ibirité' 'Itamarati de Minas' 'Albertina' 'Rio do Prado' 'Ibituruna'\n",
            " 'Bom Sucesso' 'Capela Nova' 'Abaeté' 'Mathias Lobato'\n",
            " 'Serranópolis de Minas' 'Rio Casca' 'Fortaleza de Minas' 'Josenópolis'\n",
            " 'Sem-Peixe' 'Águas Vermelhas' 'Itamogi' 'Tombos' 'Ipiaçu'\n",
            " 'Limeira do Oeste' 'Ribeirão Vermelho' 'Setubinha' 'Ponte Nova'\n",
            " 'Itapagipe' 'Itamonte' 'São Pedro do Suaçuí' 'Amparo do Serra'\n",
            " 'Senhora dos Remédios' 'Medeiros' 'Guaraciama' 'Poço Fundo' 'Timóteo'\n",
            " 'Alto Rio Doce' 'Materlândia' 'Ouro Preto' 'Santana do Garambéu'\n",
            " 'Resende Costa' 'Aimorés' 'Campo Florido' 'Camacho' 'Olímpio Noronha'\n",
            " 'Ipuiúna' 'Divisa Alegre' 'Cachoeirinha' 'Fernando de Noronha'\n",
            " 'Alagoinha' 'Barra de Guabiraba' 'Palmares' 'Cabrobó' 'Angelim'\n",
            " 'Santa Maria do Cambucá' 'Lagoa do Ouro' 'Joaquim Nabuco' 'Santa Cruz'\n",
            " 'Petrolina' 'Bezerros' 'Limoeiro' 'Goiana' 'Iguaraci' 'Tacaratu'\n",
            " 'Água Preta' 'Venturosa' 'Lagoa do Itaenga' 'Cupira' 'Tuparetama'\n",
            " 'Camaragibe' 'Araripina' 'Águas Belas' 'Tamandaré'\n",
            " 'Santa Maria da Boa Vista' 'Paulista' 'Capoeiras' 'São José do Belmonte'\n",
            " 'Belo Jardim' 'Sairé' 'Nazaré da Mata' 'Bom Jardim' 'Correntes' 'Granito'\n",
            " 'Salgadinho' 'Tacaimbó' 'Jatobá' 'Vertente do Lério' 'Glória do Goitá'\n",
            " 'Flores' 'Camutanga' 'Ibirajuba' 'Itacuruba' 'Lagoa do Carro'\n",
            " 'Serra Talhada' 'Jataúba' 'Salgueiro' 'Pombos' 'Tracunhaém'\n",
            " 'João Alfredo' 'Chã Grande' 'São Lourenço da Mata' 'Sanharó'\n",
            " 'Carnaubeira da Penha' 'Belém de Maria' 'Ipojuca' 'Itaguaí' 'Três Rios'\n",
            " 'Varre-Sai' 'Cardoso Moreira' 'Queimados' 'São Sebastião do Alto'\n",
            " 'Nilópolis' 'Petrópolis' 'São Fidélis' 'Areal' 'Natividade'\n",
            " 'São João de Meriti' 'Comendador Levy Gasparian' 'Sumidouro'\n",
            " 'Laje do Muriaé' 'Rio de Janeiro' 'Seropédica' 'Armação dos Búzios'\n",
            " 'Aperibé' 'Quissamã' 'Duas Barras' 'Macaé' 'Porto Real' 'Rafael Godeiro'\n",
            " 'Taipu' 'Caiçara do Norte' 'Fernando Pedroza' 'Messias Targino'\n",
            " 'Riacho da Cruz' 'Tenente Laurentino Cruz' 'São José de Mipibu'\n",
            " 'Ruy Barbosa' 'Senador Georgino Avelino' 'Baía Formosa' 'Bodó'\n",
            " 'Marcelino Vieira' \"Lagoa D'Anta\" 'José da Penha' 'Areia Branca'\n",
            " 'Pendências' 'Lagoa Salgada' 'Carnaubais' 'Janduís' 'Monte Alegre'\n",
            " 'Upanema' 'Itajá' 'São Vicente' 'Água Nova' 'Apodi' 'Macau'\n",
            " 'Governador Dix-Sept Rosado' 'Vila Flor' 'Patu' 'Serra do Mel' 'Baraúna'\n",
            " 'Jardim de Piranhas' 'Serra Negra do Norte' 'Venha-Ver' 'Ceará-Mirim'\n",
            " 'Brejinho' 'João Câmara' 'São Paulo do Potengi' 'Paraná'\n",
            " 'São Francisco do Oeste' 'Acari' 'Angicos' 'Parelhas' 'Januário Cicco'\n",
            " 'Parnamirim' 'Passagem' 'Ipueira' 'Severiano Melo' 'Turuçu'\n",
            " 'Frederico Westphalen' 'Paulo Bento' 'Cacequi' 'Engenho Velho'\n",
            " 'Arvorezinha' 'Palmeira das Missões' 'Monte Belo do Sul' 'São Jerônimo'\n",
            " 'Erval Grande' 'Chuí' 'Sarandi' 'Casca' 'Protásio Alves' 'Cacique Doble'\n",
            " 'Porto Xavier' 'Jari' 'Caiçara' 'Ibiraiaras' 'Westfalia' 'Alecrim'\n",
            " 'Anta Gorda' 'Campo Bom' 'Coronel Bicaco' 'São Francisco de Assis'\n",
            " 'Ajuricaba' 'Boa Vista das Missões' 'Carlos Gomes' 'Cerro Branco'\n",
            " 'Garruchos' 'São Vendelino' 'Capão do Leão' 'Vale do Sol'\n",
            " 'Três Cachoeiras' 'Tunas' 'Lajeado do Bugre' 'Harmonia' 'Mariano Moro'\n",
            " 'Sentinela do Sul' 'Sertão Santana' 'Butiá' 'Cidreira' 'Planalto'\n",
            " 'Capitão' 'Veranópolis' 'Eugênio de Castro' 'Portão' 'Água Santa'\n",
            " 'Formigueiro' 'Putinga' 'Nova Palma' 'Capela de Santana' 'Restinga Seca'\n",
            " 'Itati' 'Rio dos Índios' 'Bagé' 'Erval Seco' 'Catuípe' 'Palmares do Sul'\n",
            " 'Lagoa Vermelha' 'São Paulo das Missões' 'Colinas' 'Sério' 'Triunfo'\n",
            " 'Panambi' 'Coronel Barros' 'Maratá' 'Itatiba do Sul' 'Eldorado do Sul'\n",
            " 'São José do Herval' 'Redentora' 'Três de Maio' 'Colorado'\n",
            " 'Nova Petrópolis' 'Viamão' 'Novo Barreiro' 'Pinhal Grande'\n",
            " 'Nova Santa Rita' 'Candiota' 'Estação' 'Lagoa Bonita do Sul'\n",
            " 'Boa Vista do Incra' 'Ametista do Sul' 'Mata' 'Porto Alegre' 'Ubiretama'\n",
            " 'Ibiaçá' 'Gaurama' 'São Leopoldo' 'Canoas' 'Três Forquilhas'\n",
            " 'Barão do Triunfo' 'Senador Salgado Filho' 'Amaral Ferrador' 'Toropi'\n",
            " 'Tiradentes do Sul' 'Doutor Maurício Cardoso' 'Itapuca' 'Centenário'\n",
            " 'Poço das Antas' 'Cotiporã' 'Pirapó' 'Barra do Quaraí' 'Nova Alvorada'\n",
            " 'Morro Redondo' 'Horizontina' 'Ernestina' 'São José dos Ausentes'\n",
            " 'Santo Antônio das Missões' 'Esmeralda' 'Dona Francisca' 'Hulha Negra'\n",
            " 'Mampituba' 'Tapes' 'Arambaré' 'Tavares' 'Balneário Pinhal'\n",
            " 'Barra do Rio Azul' 'São Vicente do Sul' 'Jaguarão' 'Faxinal do Soturno'\n",
            " 'Tucunduva' 'Cândido Godói' 'Nova Pádua' 'Igrejinha' 'Dom Pedrito'\n",
            " 'Caçapava do Sul' 'Novo Xingu' 'Vitória das Missões' 'Travesseiro'\n",
            " 'Rio Grande' 'Quatro Irmãos' 'Sananduva' 'São Pedro da Serra'\n",
            " 'Santa Cecília do Sul' 'Derrubadas' 'São Gabriel' 'Picada Café'\n",
            " 'Bom Jesus' 'Pinheirinho do Vale' 'Piratini' 'Crissiumal'\n",
            " 'Roque Gonzales' 'Selbach' 'Glorinha' 'Capão Bonito do Sul' 'Pareci Novo'\n",
            " 'Muçum' 'Chiapetta' 'Chuvisca' 'São João da Baliza' 'Pacaraima' 'Mucajaí'\n",
            " 'Bonfim' 'Otacílio Costa' 'José Boiteux' 'Cordilheira Alta' 'Meleiro'\n",
            " 'São José do Cerrito' 'Peritiba' 'Santa Cecília' 'São João do Sul'\n",
            " 'Rio das Antas' 'Morro da Fumaça' 'Ermo' 'Rio do Sul' 'Três Barras'\n",
            " 'Cunha Porã' 'Itapoá' 'Ouro Verde' 'Jardinópolis' 'Abdon Batista'\n",
            " 'Bom Jardim da Serra' 'Timbó' 'São Joaquim' 'Palma Sola' 'Cunhataí'\n",
            " 'Siderópolis' 'Barra Velha' 'Brusque' 'São José do Cedro'\n",
            " 'Santa Terezinha do Progresso' 'Balneário Piçarras' 'Planalto Alegre'\n",
            " 'Petrolândia' 'Witmarsum' 'Major Vieira' 'Águas Frias' 'Modelo'\n",
            " 'Chapadão do Lageado' 'Passo de Torres' 'Major Gercino' 'Ascurra'\n",
            " 'Porto União' 'Schroeder' 'Guaramirim' 'Presidente Nereu' 'Apiúna'\n",
            " 'São José' 'São Cristovão do Sul' 'Camboriú' 'Içara' 'Monte Carlo'\n",
            " 'Benedito Novo' 'Coronel Freitas' 'Tigrinhos' 'Faxinal dos Guedes'\n",
            " 'Capinzal' 'Garopaba' 'Águas Mornas' 'Trombudo Central' 'Laurentino'\n",
            " 'Porto Belo' 'Blumenau' 'Corupá' 'Florianópolis' 'Rio dos Cedros'\n",
            " 'Ipumirim' 'Luiz Alves' 'Doutor Pedrinho' 'Painel' 'Arroio Trinta'\n",
            " 'Ibirama' 'Jaraguá do Sul' 'Guarujá do Sul' 'Irineópolis' 'Caibi'\n",
            " 'Gaspar' 'Taió' 'São Bento do Sul' 'Bom Jesus do Oeste' 'Pinheiro Preto'\n",
            " 'Concórdia' \"Herval D'Oeste\" 'Palhoça' 'Bocaina do Sul' 'Princesa'\n",
            " 'Leoberto Leal' 'Indaial' 'Amparo de São Francisco' 'Brejo Grande'\n",
            " 'Tomar do Geru' 'Santana do São Francisco' 'Indiaroba' 'Poço Redondo'\n",
            " 'Pacatuba' 'Maruim' 'Telha' 'Poço Verde' 'Itabaiana' 'São Domingos'\n",
            " 'Japoatã' 'Santo Amaro das Brotas' 'Canhoba' 'Macambira' 'Campo do Brito'\n",
            " 'Nossa Senhora das Dores' 'Siriri' 'São Francisco' 'General Maynard'\n",
            " 'Aracaju' 'Pinhão' 'Ananás' 'Oliveira de Fátima' 'Aliança do Tocantins'\n",
            " 'Lagoa da Confusão' 'Buriti do Tocantins' 'Sucupira' 'Novo Jardim'\n",
            " 'Angico' 'Palmeirópolis' 'Santa Fé do Araguaia' 'Formoso do Araguaia'\n",
            " 'Paranã' 'Crixás do Tocantins' 'Pedro Afonso' 'Santa Tereza do Tocantins'\n",
            " 'Dois Irmãos do Tocantins' 'Porto Nacional' 'Colinas do Tocantins'\n",
            " 'Presidente Kennedy' 'São Valério' 'Miracema do Tocantins' 'Filadélfia'\n",
            " 'Almas' 'Santa Rita do Tocantins' 'Luzinópolis' 'Esperantina'\n",
            " 'Pequizeiro' 'Xambioá' 'Divinópolis do Tocantins' 'Dueré' 'Recursolândia'\n",
            " \"Pau D'arco\" 'Itapiratins' 'Araguaína' 'Chapada de Areia' 'Silvanópolis'\n",
            " 'Carrasco Bonito' 'Augustinópolis' 'Taipas do Tocantins' 'Tocantinópolis'\n",
            " 'Juarina' 'Ponte Alta do Tocantins' 'São Bento do Tocantins' 'Tocantínia'\n",
            " 'Bernardo Sayão' 'Cristalândia' 'Combinado' 'Ponte Alta do Bom Jesus'\n",
            " 'Gurupi' 'Axixá do Tocantins' 'Araguatins' 'Taguatinga' 'Lavandeira'\n",
            " 'Abreulândia']\n"
          ]
        }
      ]
    },
    {
      "cell_type": "code",
      "source": [
        "print(brasil_df['CIDADE'].isna().sum())"
      ],
      "metadata": {
        "colab": {
          "base_uri": "https://localhost:8080/"
        },
        "id": "JdBjcrpUjTY1",
        "outputId": "e79ce815-b483-468c-d328-9c25d21baaec"
      },
      "execution_count": null,
      "outputs": [
        {
          "output_type": "stream",
          "name": "stdout",
          "text": [
            "0\n"
          ]
        }
      ]
    },
    {
      "cell_type": "code",
      "source": [
        "print(brasil_df['PIB'].isna().sum()) #Conta quantos valores NaN existem"
      ],
      "metadata": {
        "colab": {
          "base_uri": "https://localhost:8080/"
        },
        "id": "dWeRWHX7jfrI",
        "outputId": "b86613c2-0772-48e8-853a-f9cf20c09a5a"
      },
      "execution_count": null,
      "outputs": [
        {
          "output_type": "stream",
          "name": "stdout",
          "text": [
            "0\n"
          ]
        }
      ]
    },
    {
      "cell_type": "code",
      "source": [
        "sp_df = brasil_df[brasil_df['ESTADO'] == 'SAO PAULO']\n",
        "\n",
        "top_15_maior_pib_sp = sp_df.sort_values(by='PIB', ascending=False).head(15)\n",
        "print(top_15_maior_pib_sp[['ESTADO', 'CIDADE', 'PIB']])"
      ],
      "metadata": {
        "colab": {
          "base_uri": "https://localhost:8080/"
        },
        "id": "93o-IQVSfscc",
        "outputId": "c9dfa98d-4b90-4c39-fa0b-e10b4f7f2d4f"
      },
      "execution_count": null,
      "outputs": [
        {
          "output_type": "stream",
          "name": "stdout",
          "text": [
            "Empty DataFrame\n",
            "Columns: [ESTADO, CIDADE, PIB]\n",
            "Index: []\n"
          ]
        }
      ]
    },
    {
      "cell_type": "markdown",
      "metadata": {
        "id": "Wg_la1wOewoB"
      },
      "source": [
        " - Qual é o PIB do estado de Santa Catarina?\n",
        "\n",
        "\n"
      ]
    },
    {
      "cell_type": "code",
      "execution_count": null,
      "metadata": {
        "id": "LwGqow5_ewoB",
        "colab": {
          "base_uri": "https://localhost:8080/"
        },
        "outputId": "49bd6e09-e5c7-432c-8d3b-32bbe04503a0"
      },
      "outputs": [
        {
          "output_type": "stream",
          "name": "stdout",
          "text": [
            "PIB total do estado de Santa Catarina: R$  49211256.828125\n"
          ]
        }
      ],
      "source": [
        "# código para responder a pergunta\n",
        "\n",
        "sc_df = brasil_df[brasil_df['ESTADO'] == 'SANTA CATARINA'] #Filtrar apenas as cidades de Santa Catarina (UF == 'SC')\n",
        "\n",
        "pib_total_sc = sc_df['PIB'].sum() # Somar os valores do PIB de todas as cidades de SC\n",
        "\n",
        "print(f'PIB total do estado de Santa Catarina: R$ {pib_total_sc: }')"
      ]
    },
    {
      "cell_type": "markdown",
      "metadata": {
        "id": "Yaw2gDukfApr"
      },
      "source": [
        " - Qual é o população da região sul?\n",
        "\n",
        "\n"
      ]
    },
    {
      "cell_type": "code",
      "execution_count": null,
      "metadata": {
        "id": "enEkNjFQfAps",
        "colab": {
          "base_uri": "https://localhost:8080/"
        },
        "outputId": "a4aee60e-d64c-4777-de74-01fa196b2444"
      },
      "outputs": [
        {
          "output_type": "stream",
          "name": "stdout",
          "text": [
            "População total da Região Sul:  6437314.0 habitantes\n"
          ]
        }
      ],
      "source": [
        "# código para responder a pergunta\n",
        "\n",
        "sul_df = brasil_df[brasil_df['REGIAO'] == 'SUL']\n",
        "\n",
        "populacao_total_sul = sul_df['Pop_est_2009'].sum()\n",
        "\n",
        "print(f\"População total da Região Sul: {populacao_total_sul: } habitantes\")"
      ]
    },
    {
      "cell_type": "markdown",
      "metadata": {
        "id": "9qOaKRS9fFu8"
      },
      "source": [
        " - Qual é o PIB per capito médio das cidades do Mato Grosso do Sul?"
      ]
    },
    {
      "cell_type": "code",
      "execution_count": null,
      "metadata": {
        "id": "gX8DVSfFfFu9",
        "colab": {
          "base_uri": "https://localhost:8080/"
        },
        "outputId": "75c7609b-5c95-4fab-d478-0c3a1e7a2996"
      },
      "outputs": [
        {
          "output_type": "stream",
          "name": "stdout",
          "text": [
            "PIB per capita médio das cidades do Mato Grosso do Sul: R$  14798.2034179685\n"
          ]
        }
      ],
      "source": [
        "# código para responder a pergunta\n",
        "\n",
        "ms_df = brasil_df[brasil_df['ESTADO'] == 'MATO GROSSO DO SUL'] #Filtrar apenas as cidades de Mato Grosso do Sul\n",
        "\n",
        "pib_percapita_medio_ms = ms_df['PIB_percapita'].mean() #Calcular a média do PIB per capita\n",
        "\n",
        "print(f'PIB per capita médio das cidades do Mato Grosso do Sul: R$ {pib_percapita_medio_ms: }')"
      ]
    },
    {
      "cell_type": "markdown",
      "metadata": {
        "id": "lvf-VqaffS2D"
      },
      "source": [
        " - Qual é a população do Brasil?"
      ]
    },
    {
      "cell_type": "code",
      "execution_count": null,
      "metadata": {
        "id": "_nBsY6EcfS2E",
        "colab": {
          "base_uri": "https://localhost:8080/"
        },
        "outputId": "11e3ff1d-1971-41dc-a153-c5ad3f4e549b"
      },
      "outputs": [
        {
          "output_type": "stream",
          "name": "stdout",
          "text": [
            "População total estimada do Brasil (2009):  61837115.0 habitantes\n"
          ]
        }
      ],
      "source": [
        "# código para responder a pergunta\n",
        "\n",
        "populacao_total = brasil_df['Pop_est_2009'].sum()\n",
        "\n",
        "print(f'População total estimada do Brasil (2009): {populacao_total: } habitantes')"
      ]
    },
    {
      "cell_type": "markdown",
      "metadata": {
        "id": "hnTSARXpipkP"
      },
      "source": [
        "### **2.3. Visualização**"
      ]
    },
    {
      "cell_type": "markdown",
      "metadata": {
        "id": "7coMkY8xixFO"
      },
      "source": [
        "Utilize o dataframe `brasil_df` para gerar as seguintes visualizações."
      ]
    },
    {
      "cell_type": "markdown",
      "metadata": {
        "id": "SgvPvh4Vjctx"
      },
      "source": [
        " - Gere um gráfico de barras com as 10 cidades menos populosas do Brasil."
      ]
    },
    {
      "cell_type": "code",
      "source": [
        "# código para gerar a visualização - NÃO SEI FAZER SOZINHA\n",
        "\n",
        "import matplotlib.pyplot as plt\n",
        "import seaborn as sns\n",
        "\n",
        "# Converter Pop_est_2009 para numérico, se necessário\n",
        "brasil_df['Pop_est_2009'] = pd.to_numeric(brasil_df['Pop_est_2009'], errors='coerce')\n",
        "\n",
        "# Selecionar as 10 cidades menos populosas\n",
        "menos_populosas = brasil_df.sort_values(by='Pop_est_2009').head(10)\n",
        "\n",
        "# Plotar gráfico de barras\n",
        "plt.figure(figsize=(10, 6))\n",
        "sns.barplot(x='Pop_est_2009', y='CIDADE', data=menos_populosas, palette='Blues_d')\n",
        "\n",
        "# Adicionar título e labels\n",
        "plt.title('As 10 Cidades Menos Populosas do Brasil', fontsize=16)\n",
        "plt.xlabel('População Estimada (2009)', fontsize=12)\n",
        "plt.ylabel('Cidade', fontsize=12)\n",
        "\n",
        "# Exibir gráfico\n",
        "plt.show()"
      ],
      "metadata": {
        "colab": {
          "base_uri": "https://localhost:8080/",
          "height": 645
        },
        "id": "Lyfc7Aq9XXSx",
        "outputId": "ca63fc2e-2fd5-41fe-a73e-4bf98f5ea92e"
      },
      "execution_count": null,
      "outputs": [
        {
          "output_type": "stream",
          "name": "stderr",
          "text": [
            "<ipython-input-39-6d6a3eed0aa7>:14: FutureWarning: \n",
            "\n",
            "Passing `palette` without assigning `hue` is deprecated and will be removed in v0.14.0. Assign the `y` variable to `hue` and set `legend=False` for the same effect.\n",
            "\n",
            "  sns.barplot(x='Pop_est_2009', y='CIDADE', data=menos_populosas, palette='Blues_d')\n"
          ]
        },
        {
          "output_type": "display_data",
          "data": {
            "text/plain": [
              "<Figure size 1000x600 with 1 Axes>"
            ],
            "image/png": "[encoded data removed]"
          },
          "metadata": {}
        }
      ]
    },
    {
      "cell_type": "markdown",
      "metadata": {
        "id": "gsa3SrTjjrGV"
      },
      "source": [
        " - Gere um gráfico de pizza com a proporção da população do Brasil por região."
      ]
    },
    {
      "cell_type": "code",
      "execution_count": null,
      "metadata": {
        "id": "1dvqIAEHjrGV",
        "colab": {
          "base_uri": "https://localhost:8080/",
          "height": 677
        },
        "outputId": "03c5b121-e727-4901-9c55-f0766a6f4b85"
      },
      "outputs": [
        {
          "output_type": "display_data",
          "data": {
            "text/plain": [
              "<Figure size 800x800 with 1 Axes>"
            ],
            "image/png": "[encoded data removed]"
          },
          "metadata": {}
        }
      ],
      "source": [
        "# código para gerar a visualização - NÃO SEI FAZER SOZINHA\n",
        "\n",
        "import matplotlib.pyplot as plt\n",
        "\n",
        "# Agrupar por região e somar a população\n",
        "populacao_por_regiao = brasil_df.groupby('REGIAO')['Pop_est_2009'].sum()\n",
        "\n",
        "# Plotar gráfico de pizza\n",
        "plt.figure(figsize=(8, 8))\n",
        "plt.pie(populacao_por_regiao, labels=populacao_por_regiao.index, autopct='%1.1f%%', startangle=140, colors=sns.color_palette(\"Set3\", len(populacao_por_regiao)))\n",
        "\n",
        "# Adicionar título\n",
        "plt.title('Proporção da População do Brasil por Região', fontsize=16)\n",
        "\n",
        "# Exibir gráfico\n",
        "plt.show()"
      ]
    }
  ],
  "metadata": {
    "colab": {
      "provenance": []
    },
    "kernelspec": {
      "display_name": "Python 3",
      "name": "python3"
    }
  },
  "nbformat": 4,
  "nbformat_minor": 0
}